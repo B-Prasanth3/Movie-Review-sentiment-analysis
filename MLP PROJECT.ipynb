{
 "cells": [
  {
   "cell_type": "code",
   "execution_count": null,
   "metadata": {},
   "outputs": [],
   "source": []
  },
  {
   "cell_type": "code",
   "execution_count": 1,
   "metadata": {},
   "outputs": [],
   "source": [
    "import numpy as npimport pandas as pd\n",
    "import matplotlib.pyplot as plt\n",
    "import seaborn as sns\n",
    "import warnings\n",
    "import re\n",
    "warnings.filterwarnings('ignore')"
   ]
  },
  {
   "cell_type": "code",
   "execution_count": 2,
   "metadata": {},
   "outputs": [
    {
     "data": {
      "text/html": [
       "<div>\n",
       "<style scoped>\n",
       "    .dataframe tbody tr th:only-of-type {\n",
       "        vertical-align: middle;\n",
       "    }\n",
       "\n",
       "    .dataframe tbody tr th {\n",
       "        vertical-align: top;\n",
       "    }\n",
       "\n",
       "    .dataframe thead th {\n",
       "        text-align: right;\n",
       "    }\n",
       "</style>\n",
       "<table border=\"1\" class=\"dataframe\">\n",
       "  <thead>\n",
       "    <tr style=\"text-align: right;\">\n",
       "      <th></th>\n",
       "      <th>type</th>\n",
       "      <th>title</th>\n",
       "      <th>director</th>\n",
       "      <th>cast</th>\n",
       "      <th>country</th>\n",
       "      <th>date_added</th>\n",
       "      <th>release_year</th>\n",
       "      <th>IMDB_Rating</th>\n",
       "      <th>duration</th>\n",
       "      <th>Genre</th>\n",
       "      <th>description</th>\n",
       "      <th>review</th>\n",
       "    </tr>\n",
       "  </thead>\n",
       "  <tbody>\n",
       "    <tr>\n",
       "      <th>0</th>\n",
       "      <td>Movie</td>\n",
       "      <td>Act of Vengeance</td>\n",
       "      <td>Mahsun Kirmizigül</td>\n",
       "      <td>Haluk Bilginer, Mahsun Kirmizigül, Mustafa San...</td>\n",
       "      <td>Turkey, United States</td>\n",
       "      <td>2018-09-29 00:00:00</td>\n",
       "      <td>2010</td>\n",
       "      <td>8.1</td>\n",
       "      <td>112 min</td>\n",
       "      <td>Action-adventure</td>\n",
       "      <td>Two Turkish agents are sent to New York City o...</td>\n",
       "      <td>I saw Brother's Shadow at the Tribeca Film Fes...</td>\n",
       "    </tr>\n",
       "    <tr>\n",
       "      <th>1</th>\n",
       "      <td>Movie</td>\n",
       "      <td>Action Replayy</td>\n",
       "      <td>Vipul Amrutlal Shah</td>\n",
       "      <td>Akshay Kumar, Aishwarya Rai Bachchan, Om Puri,...</td>\n",
       "      <td>India</td>\n",
       "      <td>2020-05-11 00:00:00</td>\n",
       "      <td>2010</td>\n",
       "      <td>8.1</td>\n",
       "      <td>129 min</td>\n",
       "      <td>Comedy</td>\n",
       "      <td>Sick of his parents’ constant squabbling, a yo...</td>\n",
       "      <td>\"Mararía\" really disappointed me. I can't cons...</td>\n",
       "    </tr>\n",
       "    <tr>\n",
       "      <th>2</th>\n",
       "      <td>Movie</td>\n",
       "      <td>Acts of Vengeance</td>\n",
       "      <td>Isaac Florentine</td>\n",
       "      <td>Antonio Banderas, Karl Urban, Paz Vega, Robert...</td>\n",
       "      <td>Bulgaria, United States</td>\n",
       "      <td>2018-01-25 00:00:00</td>\n",
       "      <td>2017</td>\n",
       "      <td>8.1</td>\n",
       "      <td>87 min</td>\n",
       "      <td>Action-adventure</td>\n",
       "      <td>Devastated by the murder of his wife and child...</td>\n",
       "      <td>Serum is about a crazy doctor that finds a ser...</td>\n",
       "    </tr>\n",
       "    <tr>\n",
       "      <th>3</th>\n",
       "      <td>Movie</td>\n",
       "      <td>Acts of Violence</td>\n",
       "      <td>Brett Donowho</td>\n",
       "      <td>Cole Hauser, Bruce Willis, Shawn Ashmore, Asht...</td>\n",
       "      <td>Canada</td>\n",
       "      <td>2020-08-01 00:00:00</td>\n",
       "      <td>2018</td>\n",
       "      <td>8.1</td>\n",
       "      <td>87 min</td>\n",
       "      <td>Action-adventure</td>\n",
       "      <td>When his future sister-in-law is kidnapped by ...</td>\n",
       "      <td>witty. funny. intelligent. awesome. i was flip...</td>\n",
       "    </tr>\n",
       "    <tr>\n",
       "      <th>4</th>\n",
       "      <td>TV Show</td>\n",
       "      <td>Ad Vitam</td>\n",
       "      <td>NaN</td>\n",
       "      <td>Yvan Attal, Garance Marillier, Niels Schneider...</td>\n",
       "      <td>France</td>\n",
       "      <td>2019-11-01 00:00:00</td>\n",
       "      <td>2018</td>\n",
       "      <td>8.1</td>\n",
       "      <td>1 Season</td>\n",
       "      <td>Drama</td>\n",
       "      <td>In a future where regeneration technology lets...</td>\n",
       "      <td>It's a unique film, as it gives us our only ch...</td>\n",
       "    </tr>\n",
       "    <tr>\n",
       "      <th>...</th>\n",
       "      <td>...</td>\n",
       "      <td>...</td>\n",
       "      <td>...</td>\n",
       "      <td>...</td>\n",
       "      <td>...</td>\n",
       "      <td>...</td>\n",
       "      <td>...</td>\n",
       "      <td>...</td>\n",
       "      <td>...</td>\n",
       "      <td>...</td>\n",
       "      <td>...</td>\n",
       "      <td>...</td>\n",
       "    </tr>\n",
       "    <tr>\n",
       "      <th>994</th>\n",
       "      <td>TV Show</td>\n",
       "      <td>Cheese in the Trap</td>\n",
       "      <td>Lee Yoon-jung</td>\n",
       "      <td>Park Hae-Jin, Kim Go-eun, Seo Kang-jun, Lee Su...</td>\n",
       "      <td>South Korea</td>\n",
       "      <td>2019-10-01 00:00:00</td>\n",
       "      <td>2016</td>\n",
       "      <td>8.1</td>\n",
       "      <td>1 Season</td>\n",
       "      <td>Romance</td>\n",
       "      <td>In this adaptation of a popular webtoon, a poo...</td>\n",
       "      <td>This little two-person movie is actually much ...</td>\n",
       "    </tr>\n",
       "    <tr>\n",
       "      <th>995</th>\n",
       "      <td>Movie</td>\n",
       "      <td>Chef</td>\n",
       "      <td>Jon Favreau</td>\n",
       "      <td>Jon Favreau, Sofía Vergara, John Leguizamo, Sc...</td>\n",
       "      <td>United States</td>\n",
       "      <td>2020-12-01 00:00:00</td>\n",
       "      <td>2014</td>\n",
       "      <td>8.1</td>\n",
       "      <td>115 min</td>\n",
       "      <td>Comedy</td>\n",
       "      <td>After igniting a Twitter war with a well-known...</td>\n",
       "      <td>UK newspaper reviews seem to have concentrated...</td>\n",
       "    </tr>\n",
       "    <tr>\n",
       "      <th>996</th>\n",
       "      <td>TV Show</td>\n",
       "      <td>Chef &amp; My Fridge</td>\n",
       "      <td>NaN</td>\n",
       "      <td>Seong-joo Kim?, Jung-hwan Ahn</td>\n",
       "      <td>South Korea</td>\n",
       "      <td>August 4, 2017</td>\n",
       "      <td>2017</td>\n",
       "      <td>8.1</td>\n",
       "      <td>2 Seasons</td>\n",
       "      <td>Reality TV</td>\n",
       "      <td>The best chefs of Korea go head-to-head to cre...</td>\n",
       "      <td>Alien Hunter 5 out of 10 Is it me or does ever...</td>\n",
       "    </tr>\n",
       "    <tr>\n",
       "      <th>997</th>\n",
       "      <td>TV Show</td>\n",
       "      <td>Chef's Table</td>\n",
       "      <td>NaN</td>\n",
       "      <td>NaN</td>\n",
       "      <td>United States</td>\n",
       "      <td>2019-02-22 00:00:00</td>\n",
       "      <td>2019</td>\n",
       "      <td>8.1</td>\n",
       "      <td>6 Seasons</td>\n",
       "      <td>Documentary</td>\n",
       "      <td>In this Emmy-nominated Documentary, find out w...</td>\n",
       "      <td>I have a hard time putting into words just how...</td>\n",
       "    </tr>\n",
       "    <tr>\n",
       "      <th>998</th>\n",
       "      <td>TV Show</td>\n",
       "      <td>Chef's Table: BBQ</td>\n",
       "      <td>NaN</td>\n",
       "      <td>NaN</td>\n",
       "      <td>United States</td>\n",
       "      <td>2020-09-02 00:00:00</td>\n",
       "      <td>2020</td>\n",
       "      <td>8.1</td>\n",
       "      <td>1 Season</td>\n",
       "      <td>Documentary</td>\n",
       "      <td>The Emmy-nominated series delves into the juic...</td>\n",
       "      <td>I love this young people trapped in a house of...</td>\n",
       "    </tr>\n",
       "  </tbody>\n",
       "</table>\n",
       "<p>999 rows × 12 columns</p>\n",
       "</div>"
      ],
      "text/plain": [
       "        type               title             director  \\\n",
       "0      Movie    Act of Vengeance    Mahsun Kirmizigül   \n",
       "1      Movie      Action Replayy  Vipul Amrutlal Shah   \n",
       "2      Movie   Acts of Vengeance     Isaac Florentine   \n",
       "3      Movie    Acts of Violence        Brett Donowho   \n",
       "4    TV Show            Ad Vitam                  NaN   \n",
       "..       ...                 ...                  ...   \n",
       "994  TV Show  Cheese in the Trap        Lee Yoon-jung   \n",
       "995    Movie                Chef          Jon Favreau   \n",
       "996  TV Show    Chef & My Fridge                  NaN   \n",
       "997  TV Show        Chef's Table                  NaN   \n",
       "998  TV Show   Chef's Table: BBQ                  NaN   \n",
       "\n",
       "                                                  cast  \\\n",
       "0    Haluk Bilginer, Mahsun Kirmizigül, Mustafa San...   \n",
       "1    Akshay Kumar, Aishwarya Rai Bachchan, Om Puri,...   \n",
       "2    Antonio Banderas, Karl Urban, Paz Vega, Robert...   \n",
       "3    Cole Hauser, Bruce Willis, Shawn Ashmore, Asht...   \n",
       "4    Yvan Attal, Garance Marillier, Niels Schneider...   \n",
       "..                                                 ...   \n",
       "994  Park Hae-Jin, Kim Go-eun, Seo Kang-jun, Lee Su...   \n",
       "995  Jon Favreau, Sofía Vergara, John Leguizamo, Sc...   \n",
       "996                      Seong-joo Kim?, Jung-hwan Ahn   \n",
       "997                                                NaN   \n",
       "998                                                NaN   \n",
       "\n",
       "                     country           date_added  release_year  IMDB_Rating  \\\n",
       "0      Turkey, United States  2018-09-29 00:00:00          2010          8.1   \n",
       "1                      India  2020-05-11 00:00:00          2010          8.1   \n",
       "2    Bulgaria, United States  2018-01-25 00:00:00          2017          8.1   \n",
       "3                     Canada  2020-08-01 00:00:00          2018          8.1   \n",
       "4                     France  2019-11-01 00:00:00          2018          8.1   \n",
       "..                       ...                  ...           ...          ...   \n",
       "994              South Korea  2019-10-01 00:00:00          2016          8.1   \n",
       "995            United States  2020-12-01 00:00:00          2014          8.1   \n",
       "996              South Korea       August 4, 2017          2017          8.1   \n",
       "997            United States  2019-02-22 00:00:00          2019          8.1   \n",
       "998            United States  2020-09-02 00:00:00          2020          8.1   \n",
       "\n",
       "      duration             Genre  \\\n",
       "0      112 min  Action-adventure   \n",
       "1      129 min            Comedy   \n",
       "2       87 min  Action-adventure   \n",
       "3       87 min  Action-adventure   \n",
       "4     1 Season             Drama   \n",
       "..         ...               ...   \n",
       "994   1 Season           Romance   \n",
       "995    115 min            Comedy   \n",
       "996  2 Seasons        Reality TV   \n",
       "997  6 Seasons       Documentary   \n",
       "998   1 Season       Documentary   \n",
       "\n",
       "                                           description  \\\n",
       "0    Two Turkish agents are sent to New York City o...   \n",
       "1    Sick of his parents’ constant squabbling, a yo...   \n",
       "2    Devastated by the murder of his wife and child...   \n",
       "3    When his future sister-in-law is kidnapped by ...   \n",
       "4    In a future where regeneration technology lets...   \n",
       "..                                                 ...   \n",
       "994  In this adaptation of a popular webtoon, a poo...   \n",
       "995  After igniting a Twitter war with a well-known...   \n",
       "996  The best chefs of Korea go head-to-head to cre...   \n",
       "997  In this Emmy-nominated Documentary, find out w...   \n",
       "998  The Emmy-nominated series delves into the juic...   \n",
       "\n",
       "                                                review  \n",
       "0    I saw Brother's Shadow at the Tribeca Film Fes...  \n",
       "1    \"Mararía\" really disappointed me. I can't cons...  \n",
       "2    Serum is about a crazy doctor that finds a ser...  \n",
       "3    witty. funny. intelligent. awesome. i was flip...  \n",
       "4    It's a unique film, as it gives us our only ch...  \n",
       "..                                                 ...  \n",
       "994  This little two-person movie is actually much ...  \n",
       "995  UK newspaper reviews seem to have concentrated...  \n",
       "996  Alien Hunter 5 out of 10 Is it me or does ever...  \n",
       "997  I have a hard time putting into words just how...  \n",
       "998  I love this young people trapped in a house of...  \n",
       "\n",
       "[999 rows x 12 columns]"
      ]
     },
     "execution_count": 2,
     "metadata": {},
     "output_type": "execute_result"
    }
   ],
   "source": [
    "df = pd.read_excel(\"D:\\mlprojectdata.xlsx\")\n",
    "df"
   ]
  },
  {
   "cell_type": "markdown",
   "metadata": {},
   "source": [
    "## DATA EXPLORING"
   ]
  },
  {
   "cell_type": "code",
   "execution_count": 3,
   "metadata": {},
   "outputs": [
    {
     "data": {
      "text/html": [
       "<div>\n",
       "<style scoped>\n",
       "    .dataframe tbody tr th:only-of-type {\n",
       "        vertical-align: middle;\n",
       "    }\n",
       "\n",
       "    .dataframe tbody tr th {\n",
       "        vertical-align: top;\n",
       "    }\n",
       "\n",
       "    .dataframe thead th {\n",
       "        text-align: right;\n",
       "    }\n",
       "</style>\n",
       "<table border=\"1\" class=\"dataframe\">\n",
       "  <thead>\n",
       "    <tr style=\"text-align: right;\">\n",
       "      <th></th>\n",
       "      <th>type</th>\n",
       "      <th>title</th>\n",
       "      <th>director</th>\n",
       "      <th>cast</th>\n",
       "      <th>country</th>\n",
       "      <th>date_added</th>\n",
       "      <th>release_year</th>\n",
       "      <th>IMDB_Rating</th>\n",
       "      <th>duration</th>\n",
       "      <th>Genre</th>\n",
       "      <th>description</th>\n",
       "      <th>review</th>\n",
       "    </tr>\n",
       "  </thead>\n",
       "  <tbody>\n",
       "    <tr>\n",
       "      <th>0</th>\n",
       "      <td>Movie</td>\n",
       "      <td>Act of Vengeance</td>\n",
       "      <td>Mahsun Kirmizigül</td>\n",
       "      <td>Haluk Bilginer, Mahsun Kirmizigül, Mustafa San...</td>\n",
       "      <td>Turkey, United States</td>\n",
       "      <td>2018-09-29 00:00:00</td>\n",
       "      <td>2010</td>\n",
       "      <td>8.1</td>\n",
       "      <td>112 min</td>\n",
       "      <td>Action-adventure</td>\n",
       "      <td>Two Turkish agents are sent to New York City o...</td>\n",
       "      <td>I saw Brother's Shadow at the Tribeca Film Fes...</td>\n",
       "    </tr>\n",
       "    <tr>\n",
       "      <th>1</th>\n",
       "      <td>Movie</td>\n",
       "      <td>Action Replayy</td>\n",
       "      <td>Vipul Amrutlal Shah</td>\n",
       "      <td>Akshay Kumar, Aishwarya Rai Bachchan, Om Puri,...</td>\n",
       "      <td>India</td>\n",
       "      <td>2020-05-11 00:00:00</td>\n",
       "      <td>2010</td>\n",
       "      <td>8.1</td>\n",
       "      <td>129 min</td>\n",
       "      <td>Comedy</td>\n",
       "      <td>Sick of his parents’ constant squabbling, a yo...</td>\n",
       "      <td>\"Mararía\" really disappointed me. I can't cons...</td>\n",
       "    </tr>\n",
       "    <tr>\n",
       "      <th>2</th>\n",
       "      <td>Movie</td>\n",
       "      <td>Acts of Vengeance</td>\n",
       "      <td>Isaac Florentine</td>\n",
       "      <td>Antonio Banderas, Karl Urban, Paz Vega, Robert...</td>\n",
       "      <td>Bulgaria, United States</td>\n",
       "      <td>2018-01-25 00:00:00</td>\n",
       "      <td>2017</td>\n",
       "      <td>8.1</td>\n",
       "      <td>87 min</td>\n",
       "      <td>Action-adventure</td>\n",
       "      <td>Devastated by the murder of his wife and child...</td>\n",
       "      <td>Serum is about a crazy doctor that finds a ser...</td>\n",
       "    </tr>\n",
       "    <tr>\n",
       "      <th>3</th>\n",
       "      <td>Movie</td>\n",
       "      <td>Acts of Violence</td>\n",
       "      <td>Brett Donowho</td>\n",
       "      <td>Cole Hauser, Bruce Willis, Shawn Ashmore, Asht...</td>\n",
       "      <td>Canada</td>\n",
       "      <td>2020-08-01 00:00:00</td>\n",
       "      <td>2018</td>\n",
       "      <td>8.1</td>\n",
       "      <td>87 min</td>\n",
       "      <td>Action-adventure</td>\n",
       "      <td>When his future sister-in-law is kidnapped by ...</td>\n",
       "      <td>witty. funny. intelligent. awesome. i was flip...</td>\n",
       "    </tr>\n",
       "    <tr>\n",
       "      <th>4</th>\n",
       "      <td>TV Show</td>\n",
       "      <td>Ad Vitam</td>\n",
       "      <td>NaN</td>\n",
       "      <td>Yvan Attal, Garance Marillier, Niels Schneider...</td>\n",
       "      <td>France</td>\n",
       "      <td>2019-11-01 00:00:00</td>\n",
       "      <td>2018</td>\n",
       "      <td>8.1</td>\n",
       "      <td>1 Season</td>\n",
       "      <td>Drama</td>\n",
       "      <td>In a future where regeneration technology lets...</td>\n",
       "      <td>It's a unique film, as it gives us our only ch...</td>\n",
       "    </tr>\n",
       "  </tbody>\n",
       "</table>\n",
       "</div>"
      ],
      "text/plain": [
       "      type              title             director  \\\n",
       "0    Movie   Act of Vengeance    Mahsun Kirmizigül   \n",
       "1    Movie     Action Replayy  Vipul Amrutlal Shah   \n",
       "2    Movie  Acts of Vengeance     Isaac Florentine   \n",
       "3    Movie   Acts of Violence        Brett Donowho   \n",
       "4  TV Show           Ad Vitam                  NaN   \n",
       "\n",
       "                                                cast                  country  \\\n",
       "0  Haluk Bilginer, Mahsun Kirmizigül, Mustafa San...    Turkey, United States   \n",
       "1  Akshay Kumar, Aishwarya Rai Bachchan, Om Puri,...                    India   \n",
       "2  Antonio Banderas, Karl Urban, Paz Vega, Robert...  Bulgaria, United States   \n",
       "3  Cole Hauser, Bruce Willis, Shawn Ashmore, Asht...                   Canada   \n",
       "4  Yvan Attal, Garance Marillier, Niels Schneider...                   France   \n",
       "\n",
       "            date_added  release_year  IMDB_Rating  duration             Genre  \\\n",
       "0  2018-09-29 00:00:00          2010          8.1   112 min  Action-adventure   \n",
       "1  2020-05-11 00:00:00          2010          8.1   129 min            Comedy   \n",
       "2  2018-01-25 00:00:00          2017          8.1    87 min  Action-adventure   \n",
       "3  2020-08-01 00:00:00          2018          8.1    87 min  Action-adventure   \n",
       "4  2019-11-01 00:00:00          2018          8.1  1 Season             Drama   \n",
       "\n",
       "                                         description  \\\n",
       "0  Two Turkish agents are sent to New York City o...   \n",
       "1  Sick of his parents’ constant squabbling, a yo...   \n",
       "2  Devastated by the murder of his wife and child...   \n",
       "3  When his future sister-in-law is kidnapped by ...   \n",
       "4  In a future where regeneration technology lets...   \n",
       "\n",
       "                                              review  \n",
       "0  I saw Brother's Shadow at the Tribeca Film Fes...  \n",
       "1  \"Mararía\" really disappointed me. I can't cons...  \n",
       "2  Serum is about a crazy doctor that finds a ser...  \n",
       "3  witty. funny. intelligent. awesome. i was flip...  \n",
       "4  It's a unique film, as it gives us our only ch...  "
      ]
     },
     "execution_count": 3,
     "metadata": {},
     "output_type": "execute_result"
    }
   ],
   "source": [
    "df.head()"
   ]
  },
  {
   "cell_type": "code",
   "execution_count": 4,
   "metadata": {},
   "outputs": [
    {
     "data": {
      "text/html": [
       "<div>\n",
       "<style scoped>\n",
       "    .dataframe tbody tr th:only-of-type {\n",
       "        vertical-align: middle;\n",
       "    }\n",
       "\n",
       "    .dataframe tbody tr th {\n",
       "        vertical-align: top;\n",
       "    }\n",
       "\n",
       "    .dataframe thead th {\n",
       "        text-align: right;\n",
       "    }\n",
       "</style>\n",
       "<table border=\"1\" class=\"dataframe\">\n",
       "  <thead>\n",
       "    <tr style=\"text-align: right;\">\n",
       "      <th></th>\n",
       "      <th>type</th>\n",
       "      <th>title</th>\n",
       "      <th>director</th>\n",
       "      <th>cast</th>\n",
       "      <th>country</th>\n",
       "      <th>date_added</th>\n",
       "      <th>release_year</th>\n",
       "      <th>IMDB_Rating</th>\n",
       "      <th>duration</th>\n",
       "      <th>Genre</th>\n",
       "      <th>description</th>\n",
       "      <th>review</th>\n",
       "    </tr>\n",
       "  </thead>\n",
       "  <tbody>\n",
       "    <tr>\n",
       "      <th>994</th>\n",
       "      <td>TV Show</td>\n",
       "      <td>Cheese in the Trap</td>\n",
       "      <td>Lee Yoon-jung</td>\n",
       "      <td>Park Hae-Jin, Kim Go-eun, Seo Kang-jun, Lee Su...</td>\n",
       "      <td>South Korea</td>\n",
       "      <td>2019-10-01 00:00:00</td>\n",
       "      <td>2016</td>\n",
       "      <td>8.1</td>\n",
       "      <td>1 Season</td>\n",
       "      <td>Romance</td>\n",
       "      <td>In this adaptation of a popular webtoon, a poo...</td>\n",
       "      <td>This little two-person movie is actually much ...</td>\n",
       "    </tr>\n",
       "    <tr>\n",
       "      <th>995</th>\n",
       "      <td>Movie</td>\n",
       "      <td>Chef</td>\n",
       "      <td>Jon Favreau</td>\n",
       "      <td>Jon Favreau, Sofía Vergara, John Leguizamo, Sc...</td>\n",
       "      <td>United States</td>\n",
       "      <td>2020-12-01 00:00:00</td>\n",
       "      <td>2014</td>\n",
       "      <td>8.1</td>\n",
       "      <td>115 min</td>\n",
       "      <td>Comedy</td>\n",
       "      <td>After igniting a Twitter war with a well-known...</td>\n",
       "      <td>UK newspaper reviews seem to have concentrated...</td>\n",
       "    </tr>\n",
       "    <tr>\n",
       "      <th>996</th>\n",
       "      <td>TV Show</td>\n",
       "      <td>Chef &amp; My Fridge</td>\n",
       "      <td>NaN</td>\n",
       "      <td>Seong-joo Kim?, Jung-hwan Ahn</td>\n",
       "      <td>South Korea</td>\n",
       "      <td>August 4, 2017</td>\n",
       "      <td>2017</td>\n",
       "      <td>8.1</td>\n",
       "      <td>2 Seasons</td>\n",
       "      <td>Reality TV</td>\n",
       "      <td>The best chefs of Korea go head-to-head to cre...</td>\n",
       "      <td>Alien Hunter 5 out of 10 Is it me or does ever...</td>\n",
       "    </tr>\n",
       "    <tr>\n",
       "      <th>997</th>\n",
       "      <td>TV Show</td>\n",
       "      <td>Chef's Table</td>\n",
       "      <td>NaN</td>\n",
       "      <td>NaN</td>\n",
       "      <td>United States</td>\n",
       "      <td>2019-02-22 00:00:00</td>\n",
       "      <td>2019</td>\n",
       "      <td>8.1</td>\n",
       "      <td>6 Seasons</td>\n",
       "      <td>Documentary</td>\n",
       "      <td>In this Emmy-nominated Documentary, find out w...</td>\n",
       "      <td>I have a hard time putting into words just how...</td>\n",
       "    </tr>\n",
       "    <tr>\n",
       "      <th>998</th>\n",
       "      <td>TV Show</td>\n",
       "      <td>Chef's Table: BBQ</td>\n",
       "      <td>NaN</td>\n",
       "      <td>NaN</td>\n",
       "      <td>United States</td>\n",
       "      <td>2020-09-02 00:00:00</td>\n",
       "      <td>2020</td>\n",
       "      <td>8.1</td>\n",
       "      <td>1 Season</td>\n",
       "      <td>Documentary</td>\n",
       "      <td>The Emmy-nominated series delves into the juic...</td>\n",
       "      <td>I love this young people trapped in a house of...</td>\n",
       "    </tr>\n",
       "  </tbody>\n",
       "</table>\n",
       "</div>"
      ],
      "text/plain": [
       "        type               title       director  \\\n",
       "994  TV Show  Cheese in the Trap  Lee Yoon-jung   \n",
       "995    Movie                Chef    Jon Favreau   \n",
       "996  TV Show    Chef & My Fridge            NaN   \n",
       "997  TV Show        Chef's Table            NaN   \n",
       "998  TV Show   Chef's Table: BBQ            NaN   \n",
       "\n",
       "                                                  cast        country  \\\n",
       "994  Park Hae-Jin, Kim Go-eun, Seo Kang-jun, Lee Su...    South Korea   \n",
       "995  Jon Favreau, Sofía Vergara, John Leguizamo, Sc...  United States   \n",
       "996                      Seong-joo Kim?, Jung-hwan Ahn    South Korea   \n",
       "997                                                NaN  United States   \n",
       "998                                                NaN  United States   \n",
       "\n",
       "              date_added  release_year  IMDB_Rating   duration        Genre  \\\n",
       "994  2019-10-01 00:00:00          2016          8.1   1 Season      Romance   \n",
       "995  2020-12-01 00:00:00          2014          8.1    115 min       Comedy   \n",
       "996       August 4, 2017          2017          8.1  2 Seasons   Reality TV   \n",
       "997  2019-02-22 00:00:00          2019          8.1  6 Seasons  Documentary   \n",
       "998  2020-09-02 00:00:00          2020          8.1   1 Season  Documentary   \n",
       "\n",
       "                                           description  \\\n",
       "994  In this adaptation of a popular webtoon, a poo...   \n",
       "995  After igniting a Twitter war with a well-known...   \n",
       "996  The best chefs of Korea go head-to-head to cre...   \n",
       "997  In this Emmy-nominated Documentary, find out w...   \n",
       "998  The Emmy-nominated series delves into the juic...   \n",
       "\n",
       "                                                review  \n",
       "994  This little two-person movie is actually much ...  \n",
       "995  UK newspaper reviews seem to have concentrated...  \n",
       "996  Alien Hunter 5 out of 10 Is it me or does ever...  \n",
       "997  I have a hard time putting into words just how...  \n",
       "998  I love this young people trapped in a house of...  "
      ]
     },
     "execution_count": 4,
     "metadata": {},
     "output_type": "execute_result"
    }
   ],
   "source": [
    "df.tail()"
   ]
  },
  {
   "cell_type": "code",
   "execution_count": 5,
   "metadata": {},
   "outputs": [
    {
     "data": {
      "text/plain": [
       "(999, 12)"
      ]
     },
     "execution_count": 5,
     "metadata": {},
     "output_type": "execute_result"
    }
   ],
   "source": [
    "df.shape"
   ]
  },
  {
   "cell_type": "code",
   "execution_count": 6,
   "metadata": {},
   "outputs": [
    {
     "name": "stdout",
     "output_type": "stream",
     "text": [
      "<class 'pandas.core.frame.DataFrame'>\n",
      "RangeIndex: 999 entries, 0 to 998\n",
      "Data columns (total 12 columns):\n",
      " #   Column        Non-Null Count  Dtype  \n",
      "---  ------        --------------  -----  \n",
      " 0   type          999 non-null    object \n",
      " 1   title         999 non-null    object \n",
      " 2   director      704 non-null    object \n",
      " 3   cast          914 non-null    object \n",
      " 4   country       937 non-null    object \n",
      " 5   date_added    998 non-null    object \n",
      " 6   release_year  999 non-null    int64  \n",
      " 7   IMDB_Rating   999 non-null    float64\n",
      " 8   duration      999 non-null    object \n",
      " 9   Genre         999 non-null    object \n",
      " 10  description   999 non-null    object \n",
      " 11  review        999 non-null    object \n",
      "dtypes: float64(1), int64(1), object(10)\n",
      "memory usage: 93.8+ KB\n"
     ]
    }
   ],
   "source": [
    "df.info()"
   ]
  },
  {
   "cell_type": "code",
   "execution_count": 7,
   "metadata": {},
   "outputs": [
    {
     "data": {
      "text/html": [
       "<div>\n",
       "<style scoped>\n",
       "    .dataframe tbody tr th:only-of-type {\n",
       "        vertical-align: middle;\n",
       "    }\n",
       "\n",
       "    .dataframe tbody tr th {\n",
       "        vertical-align: top;\n",
       "    }\n",
       "\n",
       "    .dataframe thead th {\n",
       "        text-align: right;\n",
       "    }\n",
       "</style>\n",
       "<table border=\"1\" class=\"dataframe\">\n",
       "  <thead>\n",
       "    <tr style=\"text-align: right;\">\n",
       "      <th></th>\n",
       "      <th>release_year</th>\n",
       "      <th>IMDB_Rating</th>\n",
       "    </tr>\n",
       "  </thead>\n",
       "  <tbody>\n",
       "    <tr>\n",
       "      <th>count</th>\n",
       "      <td>999.000000</td>\n",
       "      <td>999.000000</td>\n",
       "    </tr>\n",
       "    <tr>\n",
       "      <th>mean</th>\n",
       "      <td>2014.058058</td>\n",
       "      <td>7.951552</td>\n",
       "    </tr>\n",
       "    <tr>\n",
       "      <th>std</th>\n",
       "      <td>8.352134</td>\n",
       "      <td>0.275585</td>\n",
       "    </tr>\n",
       "    <tr>\n",
       "      <th>min</th>\n",
       "      <td>1958.000000</td>\n",
       "      <td>7.600000</td>\n",
       "    </tr>\n",
       "    <tr>\n",
       "      <th>25%</th>\n",
       "      <td>2014.000000</td>\n",
       "      <td>7.700000</td>\n",
       "    </tr>\n",
       "    <tr>\n",
       "      <th>50%</th>\n",
       "      <td>2017.000000</td>\n",
       "      <td>7.900000</td>\n",
       "    </tr>\n",
       "    <tr>\n",
       "      <th>75%</th>\n",
       "      <td>2018.000000</td>\n",
       "      <td>8.100000</td>\n",
       "    </tr>\n",
       "    <tr>\n",
       "      <th>max</th>\n",
       "      <td>2021.000000</td>\n",
       "      <td>9.300000</td>\n",
       "    </tr>\n",
       "  </tbody>\n",
       "</table>\n",
       "</div>"
      ],
      "text/plain": [
       "       release_year  IMDB_Rating\n",
       "count    999.000000   999.000000\n",
       "mean    2014.058058     7.951552\n",
       "std        8.352134     0.275585\n",
       "min     1958.000000     7.600000\n",
       "25%     2014.000000     7.700000\n",
       "50%     2017.000000     7.900000\n",
       "75%     2018.000000     8.100000\n",
       "max     2021.000000     9.300000"
      ]
     },
     "execution_count": 7,
     "metadata": {},
     "output_type": "execute_result"
    }
   ],
   "source": [
    "df.describe()"
   ]
  },
  {
   "cell_type": "code",
   "execution_count": 8,
   "metadata": {},
   "outputs": [
    {
     "data": {
      "text/plain": [
       "Index(['type', 'title', 'director', 'cast', 'country', 'date_added',\n",
       "       'release_year', 'IMDB_Rating', 'duration', 'Genre', 'description',\n",
       "       'review'],\n",
       "      dtype='object')"
      ]
     },
     "execution_count": 8,
     "metadata": {},
     "output_type": "execute_result"
    }
   ],
   "source": [
    "df.columns"
   ]
  },
  {
   "cell_type": "code",
   "execution_count": 9,
   "metadata": {},
   "outputs": [
    {
     "data": {
      "text/plain": [
       "type             object\n",
       "title            object\n",
       "director         object\n",
       "cast             object\n",
       "country          object\n",
       "date_added       object\n",
       "release_year      int64\n",
       "IMDB_Rating     float64\n",
       "duration         object\n",
       "Genre            object\n",
       "description      object\n",
       "review           object\n",
       "dtype: object"
      ]
     },
     "execution_count": 9,
     "metadata": {},
     "output_type": "execute_result"
    }
   ],
   "source": [
    "df.dtypes"
   ]
  },
  {
   "cell_type": "markdown",
   "metadata": {},
   "source": [
    "## DATA PREPROCESSING"
   ]
  },
  {
   "cell_type": "code",
   "execution_count": 10,
   "metadata": {},
   "outputs": [
    {
     "data": {
      "text/plain": [
       "type              0\n",
       "title             0\n",
       "director        295\n",
       "cast             85\n",
       "country          62\n",
       "date_added        1\n",
       "release_year      0\n",
       "IMDB_Rating       0\n",
       "duration          0\n",
       "Genre             0\n",
       "description       0\n",
       "review            0\n",
       "dtype: int64"
      ]
     },
     "execution_count": 10,
     "metadata": {},
     "output_type": "execute_result"
    }
   ],
   "source": [
    "df.isnull().sum()"
   ]
  },
  {
   "cell_type": "code",
   "execution_count": 11,
   "metadata": {},
   "outputs": [],
   "source": [
    "df['director'].fillna(value = 0 , inplace = True)"
   ]
  },
  {
   "cell_type": "code",
   "execution_count": 12,
   "metadata": {},
   "outputs": [],
   "source": [
    "df['cast'].fillna(value = 0 , inplace = True)"
   ]
  },
  {
   "cell_type": "code",
   "execution_count": 13,
   "metadata": {},
   "outputs": [],
   "source": [
    "df['country'].fillna(value = 0 , inplace = True)"
   ]
  },
  {
   "cell_type": "code",
   "execution_count": 14,
   "metadata": {},
   "outputs": [],
   "source": [
    "df['date_added'].fillna(value = 0 , inplace = True)"
   ]
  },
  {
   "cell_type": "code",
   "execution_count": 15,
   "metadata": {},
   "outputs": [],
   "source": [
    "df['title'].fillna(value = 0 , inplace = True)"
   ]
  },
  {
   "cell_type": "code",
   "execution_count": 16,
   "metadata": {},
   "outputs": [
    {
     "data": {
      "text/plain": [
       "type            0\n",
       "title           0\n",
       "director        0\n",
       "cast            0\n",
       "country         0\n",
       "date_added      0\n",
       "release_year    0\n",
       "IMDB_Rating     0\n",
       "duration        0\n",
       "Genre           0\n",
       "description     0\n",
       "review          0\n",
       "dtype: int64"
      ]
     },
     "execution_count": 16,
     "metadata": {},
     "output_type": "execute_result"
    }
   ],
   "source": [
    "df.isnull().sum()"
   ]
  },
  {
   "cell_type": "markdown",
   "metadata": {},
   "source": [
    " ## DATA VISUALIZATION"
   ]
  },
  {
   "cell_type": "code",
   "execution_count": 17,
   "metadata": {},
   "outputs": [
    {
     "name": "stdout",
     "output_type": "stream",
     "text": [
      "7.7    157\n",
      "7.8    143\n",
      "8.0    141\n",
      "8.1    134\n",
      "7.6    123\n",
      "7.9    106\n",
      "8.2     67\n",
      "8.3     44\n",
      "8.4     31\n",
      "8.5     20\n",
      "8.6     15\n",
      "8.8      5\n",
      "8.7      5\n",
      "9.0      3\n",
      "8.9      3\n",
      "9.2      1\n",
      "9.3      1\n",
      "Name: IMDB_Rating, dtype: int64\n"
     ]
    }
   ],
   "source": [
    "print(df['IMDB_Rating'].value_counts())"
   ]
  },
  {
   "cell_type": "code",
   "execution_count": 18,
   "metadata": {},
   "outputs": [
    {
     "data": {
      "text/plain": [
       "(array([ 0,  1,  2,  3,  4,  5,  6,  7,  8,  9, 10, 11, 12, 13, 14, 15, 16]),\n",
       " [Text(0, 0, '7.6'),\n",
       "  Text(1, 0, '7.7'),\n",
       "  Text(2, 0, '7.8'),\n",
       "  Text(3, 0, '7.9'),\n",
       "  Text(4, 0, '8.0'),\n",
       "  Text(5, 0, '8.1'),\n",
       "  Text(6, 0, '8.2'),\n",
       "  Text(7, 0, '8.3'),\n",
       "  Text(8, 0, '8.4'),\n",
       "  Text(9, 0, '8.5'),\n",
       "  Text(10, 0, '8.6'),\n",
       "  Text(11, 0, '8.7'),\n",
       "  Text(12, 0, '8.8'),\n",
       "  Text(13, 0, '8.9'),\n",
       "  Text(14, 0, '9.0'),\n",
       "  Text(15, 0, '9.2'),\n",
       "  Text(16, 0, '9.3')])"
      ]
     },
     "execution_count": 18,
     "metadata": {},
     "output_type": "execute_result"
    },
    {
     "data": {
      "image/png": "[encoded data removed]",
      "text/plain": [
       "<Figure size 576x576 with 1 Axes>"
      ]
     },
     "metadata": {
      "needs_background": "light"
     },
     "output_type": "display_data"
    }
   ],
   "source": [
    "sns.factorplot('IMDB_Rating',kind='count',data=df, size=8)\n",
    "plt.xticks(rotation=45)"
   ]
  },
  {
   "cell_type": "code",
   "execution_count": 19,
   "metadata": {},
   "outputs": [
    {
     "data": {
      "text/plain": [
       "9.3"
      ]
     },
     "execution_count": 19,
     "metadata": {},
     "output_type": "execute_result"
    }
   ],
   "source": [
    "df['IMDB_Rating'].max()"
   ]
  },
  {
   "cell_type": "code",
   "execution_count": 20,
   "metadata": {},
   "outputs": [
    {
     "data": {
      "text/plain": [
       "7.6"
      ]
     },
     "execution_count": 20,
     "metadata": {},
     "output_type": "execute_result"
    }
   ],
   "source": [
    "df['IMDB_Rating'].min()"
   ]
  },
  {
   "cell_type": "code",
   "execution_count": 21,
   "metadata": {},
   "outputs": [
    {
     "data": {
      "text/plain": [
       "<seaborn.axisgrid.FacetGrid at 0x18a7d943e20>"
      ]
     },
     "execution_count": 21,
     "metadata": {},
     "output_type": "execute_result"
    },
    {
     "data": {
      "image/png": "[encoded data removed]",
      "text/plain": [
       "<Figure size 360x360 with 1 Axes>"
      ]
     },
     "metadata": {
      "needs_background": "light"
     },
     "output_type": "display_data"
    }
   ],
   "source": [
    "sns.factorplot(y='IMDB_Rating',kind='box',data=df)"
   ]
  },
  {
   "cell_type": "code",
   "execution_count": 22,
   "metadata": {},
   "outputs": [],
   "source": [
    "tmp = df['country'].value_counts()\n",
    "country_list = tmp[tmp>3].index.tolist()"
   ]
  },
  {
   "cell_type": "markdown",
   "metadata": {},
   "source": [
    "###  IMDB_Rating VS Country"
   ]
  },
  {
   "cell_type": "code",
   "execution_count": 23,
   "metadata": {},
   "outputs": [
    {
     "data": {
      "text/plain": [
       "<Figure size 1008x432 with 0 Axes>"
      ]
     },
     "execution_count": 23,
     "metadata": {},
     "output_type": "execute_result"
    },
    {
     "data": {
      "image/png": "[encoded data removed]",
      "text/plain": [
       "<Figure size 432x288 with 1 Axes>"
      ]
     },
     "metadata": {
      "needs_background": "light"
     },
     "output_type": "display_data"
    },
    {
     "data": {
      "text/plain": [
       "<Figure size 1008x432 with 0 Axes>"
      ]
     },
     "metadata": {},
     "output_type": "display_data"
    }
   ],
   "source": [
    "sns.boxplot(y='IMDB_Rating',x='country',data=df[df['country'].isin(country_list)])\n",
    "plt.xticks(rotation=75)\n",
    "plt.figure(figsize=(14,6))"
   ]
  },
  {
   "cell_type": "markdown",
   "metadata": {},
   "source": [
    " ### IMDB_Rating vs Release year"
   ]
  },
  {
   "cell_type": "code",
   "execution_count": 24,
   "metadata": {},
   "outputs": [],
   "source": [
    "release_year_df = df[['release_year','IMDB_Rating']]\n",
    "\n",
    "release_year_df = release_year_df.dropna()\n",
    "release_year_df['release_year'] =release_year_df['release_year'].astype(int)"
   ]
  },
  {
   "cell_type": "code",
   "execution_count": 25,
   "metadata": {},
   "outputs": [
    {
     "data": {
      "text/plain": [
       "(array([ 0,  1,  2,  3,  4,  5,  6,  7,  8,  9, 10, 11, 12, 13, 14, 15, 16,\n",
       "        17, 18, 19, 20, 21, 22, 23, 24, 25, 26, 27, 28, 29, 30, 31, 32, 33,\n",
       "        34, 35, 36, 37, 38, 39, 40, 41, 42, 43, 44, 45, 46, 47, 48]),\n",
       " [Text(0, 0, '1958'),\n",
       "  Text(1, 0, '1960'),\n",
       "  Text(2, 0, '1966'),\n",
       "  Text(3, 0, '1967'),\n",
       "  Text(4, 0, '1972'),\n",
       "  Text(5, 0, '1973'),\n",
       "  Text(6, 0, '1974'),\n",
       "  Text(7, 0, '1975'),\n",
       "  Text(8, 0, '1976'),\n",
       "  Text(9, 0, '1977'),\n",
       "  Text(10, 0, '1978'),\n",
       "  Text(11, 0, '1979'),\n",
       "  Text(12, 0, '1980'),\n",
       "  Text(13, 0, '1981'),\n",
       "  Text(14, 0, '1982'),\n",
       "  Text(15, 0, '1986'),\n",
       "  Text(16, 0, '1989'),\n",
       "  Text(17, 0, '1990'),\n",
       "  Text(18, 0, '1991'),\n",
       "  Text(19, 0, '1992'),\n",
       "  Text(20, 0, '1993'),\n",
       "  Text(21, 0, '1994'),\n",
       "  Text(22, 0, '1995'),\n",
       "  Text(23, 0, '1996'),\n",
       "  Text(24, 0, '1997'),\n",
       "  Text(25, 0, '1998'),\n",
       "  Text(26, 0, '1999'),\n",
       "  Text(27, 0, '2000'),\n",
       "  Text(28, 0, '2001'),\n",
       "  Text(29, 0, '2002'),\n",
       "  Text(30, 0, '2003'),\n",
       "  Text(31, 0, '2004'),\n",
       "  Text(32, 0, '2005'),\n",
       "  Text(33, 0, '2006'),\n",
       "  Text(34, 0, '2007'),\n",
       "  Text(35, 0, '2008'),\n",
       "  Text(36, 0, '2009'),\n",
       "  Text(37, 0, '2010'),\n",
       "  Text(38, 0, '2011'),\n",
       "  Text(39, 0, '2012'),\n",
       "  Text(40, 0, '2013'),\n",
       "  Text(41, 0, '2014'),\n",
       "  Text(42, 0, '2015'),\n",
       "  Text(43, 0, '2016'),\n",
       "  Text(44, 0, '2017'),\n",
       "  Text(45, 0, '2018'),\n",
       "  Text(46, 0, '2019'),\n",
       "  Text(47, 0, '2020'),\n",
       "  Text(48, 0, '2021')])"
      ]
     },
     "execution_count": 25,
     "metadata": {},
     "output_type": "execute_result"
    },
    {
     "data": {
      "image/png": "[encoded data removed]",
      "text/plain": [
       "<Figure size 576x576 with 1 Axes>"
      ]
     },
     "metadata": {
      "needs_background": "light"
     },
     "output_type": "display_data"
    }
   ],
   "source": [
    "sns.factorplot(y='IMDB_Rating',x='release_year',data=release_year_df,kind='box', size=8)\n",
    "plt.xticks(rotation=75)"
   ]
  },
  {
   "cell_type": "markdown",
   "metadata": {},
   "source": [
    "### Genre count plot"
   ]
  },
  {
   "cell_type": "code",
   "execution_count": 26,
   "metadata": {},
   "outputs": [
    {
     "data": {
      "image/png": "[encoded data removed]",
      "text/plain": [
       "<Figure size 1008x864 with 1 Axes>"
      ]
     },
     "metadata": {
      "needs_background": "light"
     },
     "output_type": "display_data"
    }
   ],
   "source": [
    "\n",
    "plt.figure(figsize=(14,12))\n",
    "sns.countplot(x='Genre', data=df)\n",
    "plt.xlabel('Genre')\n",
    "plt.ylabel('Count')\n",
    "plt.title('Genre Count Plot')\n",
    "plt.xticks(rotation=75)\n",
    "plt.show()"
   ]
  },
  {
   "cell_type": "code",
   "execution_count": 27,
   "metadata": {},
   "outputs": [],
   "source": [
    "columns = df.columns\n",
    "discrete = []\n",
    "continuous = []\n",
    "for i in columns:\n",
    "    if df[i].dtype =='object':\n",
    "        discrete.append(i)\n",
    "    else:\n",
    "        continuous.append(i)"
   ]
  },
  {
   "cell_type": "code",
   "execution_count": 28,
   "metadata": {},
   "outputs": [
    {
     "data": {
      "text/plain": [
       "<seaborn.axisgrid.PairGrid at 0x18a7e2b43a0>"
      ]
     },
     "execution_count": 28,
     "metadata": {},
     "output_type": "execute_result"
    },
    {
     "data": {
      "image/png": "[encoded data removed]",
      "text/plain": [
       "<Figure size 360x360 with 6 Axes>"
      ]
     },
     "metadata": {
      "needs_background": "light"
     },
     "output_type": "display_data"
    }
   ],
   "source": [
    "sns.pairplot(df[continuous].dropna(),kind=\"reg\")"
   ]
  },
  {
   "cell_type": "code",
   "execution_count": 29,
   "metadata": {},
   "outputs": [],
   "source": [
    "df_corr = df[continuous].dropna().corr()"
   ]
  },
  {
   "cell_type": "code",
   "execution_count": 30,
   "metadata": {},
   "outputs": [
    {
     "data": {
      "text/plain": [
       "<AxesSubplot:>"
      ]
     },
     "execution_count": 30,
     "metadata": {},
     "output_type": "execute_result"
    },
    {
     "data": {
      "image/png": "[encoded data removed]",
      "text/plain": [
       "<Figure size 720x720 with 2 Axes>"
      ]
     },
     "metadata": {
      "needs_background": "light"
     },
     "output_type": "display_data"
    }
   ],
   "source": [
    "fig, ax = plt.subplots(figsize=(10,10))\n",
    "sns.heatmap(df_corr,\n",
    "            xticklabels=df_corr.columns.values,\n",
    "            yticklabels=df_corr.columns.values,\n",
    "           annot=True, linewidths=.5, ax=ax)"
   ]
  },
  {
   "cell_type": "code",
   "execution_count": 31,
   "metadata": {},
   "outputs": [
    {
     "data": {
      "text/html": [
       "<div>\n",
       "<style scoped>\n",
       "    .dataframe tbody tr th:only-of-type {\n",
       "        vertical-align: middle;\n",
       "    }\n",
       "\n",
       "    .dataframe tbody tr th {\n",
       "        vertical-align: top;\n",
       "    }\n",
       "\n",
       "    .dataframe thead th {\n",
       "        text-align: right;\n",
       "    }\n",
       "</style>\n",
       "<table border=\"1\" class=\"dataframe\">\n",
       "  <thead>\n",
       "    <tr style=\"text-align: right;\">\n",
       "      <th></th>\n",
       "      <th>type</th>\n",
       "      <th>title</th>\n",
       "      <th>description</th>\n",
       "      <th>release_year</th>\n",
       "      <th>Genre</th>\n",
       "      <th>IMDB_Rating</th>\n",
       "      <th>review</th>\n",
       "    </tr>\n",
       "  </thead>\n",
       "  <tbody>\n",
       "    <tr>\n",
       "      <th>0</th>\n",
       "      <td>Movie</td>\n",
       "      <td>Act of Vengeance</td>\n",
       "      <td>Two Turkish agents are sent to New York City o...</td>\n",
       "      <td>2010</td>\n",
       "      <td>Action-adventure</td>\n",
       "      <td>8.1</td>\n",
       "      <td>I saw Brother's Shadow at the Tribeca Film Fes...</td>\n",
       "    </tr>\n",
       "    <tr>\n",
       "      <th>1</th>\n",
       "      <td>Movie</td>\n",
       "      <td>Action Replayy</td>\n",
       "      <td>Sick of his parents’ constant squabbling, a yo...</td>\n",
       "      <td>2010</td>\n",
       "      <td>Comedy</td>\n",
       "      <td>8.1</td>\n",
       "      <td>\"Mararía\" really disappointed me. I can't cons...</td>\n",
       "    </tr>\n",
       "    <tr>\n",
       "      <th>2</th>\n",
       "      <td>Movie</td>\n",
       "      <td>Acts of Vengeance</td>\n",
       "      <td>Devastated by the murder of his wife and child...</td>\n",
       "      <td>2017</td>\n",
       "      <td>Action-adventure</td>\n",
       "      <td>8.1</td>\n",
       "      <td>Serum is about a crazy doctor that finds a ser...</td>\n",
       "    </tr>\n",
       "    <tr>\n",
       "      <th>3</th>\n",
       "      <td>Movie</td>\n",
       "      <td>Acts of Violence</td>\n",
       "      <td>When his future sister-in-law is kidnapped by ...</td>\n",
       "      <td>2018</td>\n",
       "      <td>Action-adventure</td>\n",
       "      <td>8.1</td>\n",
       "      <td>witty. funny. intelligent. awesome. i was flip...</td>\n",
       "    </tr>\n",
       "    <tr>\n",
       "      <th>4</th>\n",
       "      <td>TV Show</td>\n",
       "      <td>Ad Vitam</td>\n",
       "      <td>In a future where regeneration technology lets...</td>\n",
       "      <td>2018</td>\n",
       "      <td>Drama</td>\n",
       "      <td>8.1</td>\n",
       "      <td>It's a unique film, as it gives us our only ch...</td>\n",
       "    </tr>\n",
       "    <tr>\n",
       "      <th>...</th>\n",
       "      <td>...</td>\n",
       "      <td>...</td>\n",
       "      <td>...</td>\n",
       "      <td>...</td>\n",
       "      <td>...</td>\n",
       "      <td>...</td>\n",
       "      <td>...</td>\n",
       "    </tr>\n",
       "    <tr>\n",
       "      <th>994</th>\n",
       "      <td>TV Show</td>\n",
       "      <td>Cheese in the Trap</td>\n",
       "      <td>In this adaptation of a popular webtoon, a poo...</td>\n",
       "      <td>2016</td>\n",
       "      <td>Romance</td>\n",
       "      <td>8.1</td>\n",
       "      <td>This little two-person movie is actually much ...</td>\n",
       "    </tr>\n",
       "    <tr>\n",
       "      <th>995</th>\n",
       "      <td>Movie</td>\n",
       "      <td>Chef</td>\n",
       "      <td>After igniting a Twitter war with a well-known...</td>\n",
       "      <td>2014</td>\n",
       "      <td>Comedy</td>\n",
       "      <td>8.1</td>\n",
       "      <td>UK newspaper reviews seem to have concentrated...</td>\n",
       "    </tr>\n",
       "    <tr>\n",
       "      <th>996</th>\n",
       "      <td>TV Show</td>\n",
       "      <td>Chef &amp; My Fridge</td>\n",
       "      <td>The best chefs of Korea go head-to-head to cre...</td>\n",
       "      <td>2017</td>\n",
       "      <td>Reality TV</td>\n",
       "      <td>8.1</td>\n",
       "      <td>Alien Hunter 5 out of 10 Is it me or does ever...</td>\n",
       "    </tr>\n",
       "    <tr>\n",
       "      <th>997</th>\n",
       "      <td>TV Show</td>\n",
       "      <td>Chef's Table</td>\n",
       "      <td>In this Emmy-nominated Documentary, find out w...</td>\n",
       "      <td>2019</td>\n",
       "      <td>Documentary</td>\n",
       "      <td>8.1</td>\n",
       "      <td>I have a hard time putting into words just how...</td>\n",
       "    </tr>\n",
       "    <tr>\n",
       "      <th>998</th>\n",
       "      <td>TV Show</td>\n",
       "      <td>Chef's Table: BBQ</td>\n",
       "      <td>The Emmy-nominated series delves into the juic...</td>\n",
       "      <td>2020</td>\n",
       "      <td>Documentary</td>\n",
       "      <td>8.1</td>\n",
       "      <td>I love this young people trapped in a house of...</td>\n",
       "    </tr>\n",
       "  </tbody>\n",
       "</table>\n",
       "<p>999 rows × 7 columns</p>\n",
       "</div>"
      ],
      "text/plain": [
       "        type               title  \\\n",
       "0      Movie    Act of Vengeance   \n",
       "1      Movie      Action Replayy   \n",
       "2      Movie   Acts of Vengeance   \n",
       "3      Movie    Acts of Violence   \n",
       "4    TV Show            Ad Vitam   \n",
       "..       ...                 ...   \n",
       "994  TV Show  Cheese in the Trap   \n",
       "995    Movie                Chef   \n",
       "996  TV Show    Chef & My Fridge   \n",
       "997  TV Show        Chef's Table   \n",
       "998  TV Show   Chef's Table: BBQ   \n",
       "\n",
       "                                           description  release_year  \\\n",
       "0    Two Turkish agents are sent to New York City o...          2010   \n",
       "1    Sick of his parents’ constant squabbling, a yo...          2010   \n",
       "2    Devastated by the murder of his wife and child...          2017   \n",
       "3    When his future sister-in-law is kidnapped by ...          2018   \n",
       "4    In a future where regeneration technology lets...          2018   \n",
       "..                                                 ...           ...   \n",
       "994  In this adaptation of a popular webtoon, a poo...          2016   \n",
       "995  After igniting a Twitter war with a well-known...          2014   \n",
       "996  The best chefs of Korea go head-to-head to cre...          2017   \n",
       "997  In this Emmy-nominated Documentary, find out w...          2019   \n",
       "998  The Emmy-nominated series delves into the juic...          2020   \n",
       "\n",
       "                Genre  IMDB_Rating  \\\n",
       "0    Action-adventure          8.1   \n",
       "1              Comedy          8.1   \n",
       "2    Action-adventure          8.1   \n",
       "3    Action-adventure          8.1   \n",
       "4               Drama          8.1   \n",
       "..                ...          ...   \n",
       "994           Romance          8.1   \n",
       "995            Comedy          8.1   \n",
       "996        Reality TV          8.1   \n",
       "997       Documentary          8.1   \n",
       "998       Documentary          8.1   \n",
       "\n",
       "                                                review  \n",
       "0    I saw Brother's Shadow at the Tribeca Film Fes...  \n",
       "1    \"Mararía\" really disappointed me. I can't cons...  \n",
       "2    Serum is about a crazy doctor that finds a ser...  \n",
       "3    witty. funny. intelligent. awesome. i was flip...  \n",
       "4    It's a unique film, as it gives us our only ch...  \n",
       "..                                                 ...  \n",
       "994  This little two-person movie is actually much ...  \n",
       "995  UK newspaper reviews seem to have concentrated...  \n",
       "996  Alien Hunter 5 out of 10 Is it me or does ever...  \n",
       "997  I have a hard time putting into words just how...  \n",
       "998  I love this young people trapped in a house of...  \n",
       "\n",
       "[999 rows x 7 columns]"
      ]
     },
     "execution_count": 31,
     "metadata": {},
     "output_type": "execute_result"
    }
   ],
   "source": [
    "final_df=df[['type','title','description','release_year','Genre','IMDB_Rating','review' ]]\n",
    "final_df"
   ]
  },
  {
   "cell_type": "code",
   "execution_count": 32,
   "metadata": {},
   "outputs": [
    {
     "name": "stdout",
     "output_type": "stream",
     "text": [
      "<class 'pandas.core.frame.DataFrame'>\n",
      "RangeIndex: 999 entries, 0 to 998\n",
      "Data columns (total 7 columns):\n",
      " #   Column        Non-Null Count  Dtype  \n",
      "---  ------        --------------  -----  \n",
      " 0   type          999 non-null    object \n",
      " 1   title         999 non-null    object \n",
      " 2   description   999 non-null    object \n",
      " 3   release_year  999 non-null    int64  \n",
      " 4   Genre         999 non-null    object \n",
      " 5   IMDB_Rating   999 non-null    float64\n",
      " 6   review        999 non-null    object \n",
      "dtypes: float64(1), int64(1), object(5)\n",
      "memory usage: 54.8+ KB\n"
     ]
    }
   ],
   "source": [
    "final_df.info()"
   ]
  },
  {
   "cell_type": "code",
   "execution_count": 33,
   "metadata": {},
   "outputs": [
    {
     "name": "stdout",
     "output_type": "stream",
     "text": [
      "(999, 7)\n",
      "       release_year  IMDB_Rating\n",
      "count    999.000000   999.000000\n",
      "mean    2014.058058     7.951552\n",
      "std        8.352134     0.275585\n",
      "min     1958.000000     7.600000\n",
      "25%     2014.000000     7.700000\n",
      "50%     2017.000000     7.900000\n",
      "75%     2018.000000     8.100000\n",
      "max     2021.000000     9.300000\n"
     ]
    }
   ],
   "source": [
    "print(final_df.shape)\n",
    "print(final_df.describe())"
   ]
  },
  {
   "cell_type": "code",
   "execution_count": 34,
   "metadata": {},
   "outputs": [
    {
     "data": {
      "text/html": [
       "<div>\n",
       "<style scoped>\n",
       "    .dataframe tbody tr th:only-of-type {\n",
       "        vertical-align: middle;\n",
       "    }\n",
       "\n",
       "    .dataframe tbody tr th {\n",
       "        vertical-align: top;\n",
       "    }\n",
       "\n",
       "    .dataframe thead th {\n",
       "        text-align: right;\n",
       "    }\n",
       "</style>\n",
       "<table border=\"1\" class=\"dataframe\">\n",
       "  <thead>\n",
       "    <tr style=\"text-align: right;\">\n",
       "      <th></th>\n",
       "      <th>release_year</th>\n",
       "      <th>IMDB_Rating</th>\n",
       "    </tr>\n",
       "  </thead>\n",
       "  <tbody>\n",
       "    <tr>\n",
       "      <th>count</th>\n",
       "      <td>999.000000</td>\n",
       "      <td>999.000000</td>\n",
       "    </tr>\n",
       "    <tr>\n",
       "      <th>mean</th>\n",
       "      <td>2014.058058</td>\n",
       "      <td>7.951552</td>\n",
       "    </tr>\n",
       "    <tr>\n",
       "      <th>std</th>\n",
       "      <td>8.352134</td>\n",
       "      <td>0.275585</td>\n",
       "    </tr>\n",
       "    <tr>\n",
       "      <th>min</th>\n",
       "      <td>1958.000000</td>\n",
       "      <td>7.600000</td>\n",
       "    </tr>\n",
       "    <tr>\n",
       "      <th>25%</th>\n",
       "      <td>2014.000000</td>\n",
       "      <td>7.700000</td>\n",
       "    </tr>\n",
       "    <tr>\n",
       "      <th>50%</th>\n",
       "      <td>2017.000000</td>\n",
       "      <td>7.900000</td>\n",
       "    </tr>\n",
       "    <tr>\n",
       "      <th>75%</th>\n",
       "      <td>2018.000000</td>\n",
       "      <td>8.100000</td>\n",
       "    </tr>\n",
       "    <tr>\n",
       "      <th>max</th>\n",
       "      <td>2021.000000</td>\n",
       "      <td>9.300000</td>\n",
       "    </tr>\n",
       "  </tbody>\n",
       "</table>\n",
       "</div>"
      ],
      "text/plain": [
       "       release_year  IMDB_Rating\n",
       "count    999.000000   999.000000\n",
       "mean    2014.058058     7.951552\n",
       "std        8.352134     0.275585\n",
       "min     1958.000000     7.600000\n",
       "25%     2014.000000     7.700000\n",
       "50%     2017.000000     7.900000\n",
       "75%     2018.000000     8.100000\n",
       "max     2021.000000     9.300000"
      ]
     },
     "execution_count": 34,
     "metadata": {},
     "output_type": "execute_result"
    }
   ],
   "source": [
    "final_df.describe()\n"
   ]
  },
  {
   "cell_type": "markdown",
   "metadata": {},
   "source": [
    "## LABEL ENCODING"
   ]
  },
  {
   "cell_type": "code",
   "execution_count": 35,
   "metadata": {},
   "outputs": [
    {
     "data": {
      "text/html": [
       "<div>\n",
       "<style scoped>\n",
       "    .dataframe tbody tr th:only-of-type {\n",
       "        vertical-align: middle;\n",
       "    }\n",
       "\n",
       "    .dataframe tbody tr th {\n",
       "        vertical-align: top;\n",
       "    }\n",
       "\n",
       "    .dataframe thead th {\n",
       "        text-align: right;\n",
       "    }\n",
       "</style>\n",
       "<table border=\"1\" class=\"dataframe\">\n",
       "  <thead>\n",
       "    <tr style=\"text-align: right;\">\n",
       "      <th></th>\n",
       "      <th>type</th>\n",
       "      <th>title</th>\n",
       "      <th>description</th>\n",
       "      <th>release_year</th>\n",
       "      <th>Genre</th>\n",
       "      <th>IMDB_Rating</th>\n",
       "      <th>review</th>\n",
       "    </tr>\n",
       "  </thead>\n",
       "  <tbody>\n",
       "    <tr>\n",
       "      <th>0</th>\n",
       "      <td>0</td>\n",
       "      <td>11</td>\n",
       "      <td>860</td>\n",
       "      <td>37</td>\n",
       "      <td>7</td>\n",
       "      <td>5</td>\n",
       "      <td>350</td>\n",
       "    </tr>\n",
       "    <tr>\n",
       "      <th>1</th>\n",
       "      <td>0</td>\n",
       "      <td>12</td>\n",
       "      <td>693</td>\n",
       "      <td>37</td>\n",
       "      <td>19</td>\n",
       "      <td>5</td>\n",
       "      <td>10</td>\n",
       "    </tr>\n",
       "    <tr>\n",
       "      <th>2</th>\n",
       "      <td>0</td>\n",
       "      <td>13</td>\n",
       "      <td>399</td>\n",
       "      <td>44</td>\n",
       "      <td>7</td>\n",
       "      <td>5</td>\n",
       "      <td>618</td>\n",
       "    </tr>\n",
       "    <tr>\n",
       "      <th>3</th>\n",
       "      <td>0</td>\n",
       "      <td>14</td>\n",
       "      <td>928</td>\n",
       "      <td>45</td>\n",
       "      <td>7</td>\n",
       "      <td>5</td>\n",
       "      <td>934</td>\n",
       "    </tr>\n",
       "    <tr>\n",
       "      <th>4</th>\n",
       "      <td>1</td>\n",
       "      <td>15</td>\n",
       "      <td>535</td>\n",
       "      <td>45</td>\n",
       "      <td>31</td>\n",
       "      <td>5</td>\n",
       "      <td>482</td>\n",
       "    </tr>\n",
       "    <tr>\n",
       "      <th>...</th>\n",
       "      <td>...</td>\n",
       "      <td>...</td>\n",
       "      <td>...</td>\n",
       "      <td>...</td>\n",
       "      <td>...</td>\n",
       "      <td>...</td>\n",
       "      <td>...</td>\n",
       "    </tr>\n",
       "    <tr>\n",
       "      <th>994</th>\n",
       "      <td>1</td>\n",
       "      <td>989</td>\n",
       "      <td>566</td>\n",
       "      <td>43</td>\n",
       "      <td>47</td>\n",
       "      <td>5</td>\n",
       "      <td>770</td>\n",
       "    </tr>\n",
       "    <tr>\n",
       "      <th>995</th>\n",
       "      <td>0</td>\n",
       "      <td>990</td>\n",
       "      <td>218</td>\n",
       "      <td>41</td>\n",
       "      <td>19</td>\n",
       "      <td>5</td>\n",
       "      <td>845</td>\n",
       "    </tr>\n",
       "    <tr>\n",
       "      <th>996</th>\n",
       "      <td>1</td>\n",
       "      <td>991</td>\n",
       "      <td>734</td>\n",
       "      <td>44</td>\n",
       "      <td>43</td>\n",
       "      <td>5</td>\n",
       "      <td>69</td>\n",
       "    </tr>\n",
       "    <tr>\n",
       "      <th>997</th>\n",
       "      <td>1</td>\n",
       "      <td>992</td>\n",
       "      <td>564</td>\n",
       "      <td>46</td>\n",
       "      <td>27</td>\n",
       "      <td>5</td>\n",
       "      <td>296</td>\n",
       "    </tr>\n",
       "    <tr>\n",
       "      <th>998</th>\n",
       "      <td>1</td>\n",
       "      <td>993</td>\n",
       "      <td>726</td>\n",
       "      <td>47</td>\n",
       "      <td>27</td>\n",
       "      <td>5</td>\n",
       "      <td>331</td>\n",
       "    </tr>\n",
       "  </tbody>\n",
       "</table>\n",
       "<p>999 rows × 7 columns</p>\n",
       "</div>"
      ],
      "text/plain": [
       "     type  title  description  release_year  Genre  IMDB_Rating  review\n",
       "0       0     11          860            37      7            5     350\n",
       "1       0     12          693            37     19            5      10\n",
       "2       0     13          399            44      7            5     618\n",
       "3       0     14          928            45      7            5     934\n",
       "4       1     15          535            45     31            5     482\n",
       "..    ...    ...          ...           ...    ...          ...     ...\n",
       "994     1    989          566            43     47            5     770\n",
       "995     0    990          218            41     19            5     845\n",
       "996     1    991          734            44     43            5      69\n",
       "997     1    992          564            46     27            5     296\n",
       "998     1    993          726            47     27            5     331\n",
       "\n",
       "[999 rows x 7 columns]"
      ]
     },
     "execution_count": 35,
     "metadata": {},
     "output_type": "execute_result"
    }
   ],
   "source": [
    "from sklearn.preprocessing import LabelEncoder\n",
    "label_encoder = LabelEncoder()\n",
    "final_df['title'] = label_encoder.fit_transform(df['title'])\n",
    "final_df['type'] = label_encoder.fit_transform(df['type'])\n",
    "final_df['description'] = label_encoder.fit_transform(df['description'])\n",
    "final_df['Genre'] =label_encoder.fit_transform(df['Genre'])\n",
    "final_df['IMDB_Rating'] =label_encoder.fit_transform(df['IMDB_Rating'])\n",
    "final_df['review'] =label_encoder.fit_transform(df['review'])\n",
    "final_df['release_year'] =label_encoder.fit_transform(df['release_year'])\n",
    "final_df"
   ]
  },
  {
   "cell_type": "code",
   "execution_count": 36,
   "metadata": {},
   "outputs": [],
   "source": [
    "x = final_df.drop(['review'],axis = 1)\n",
    "y = final_df.IMDB_Rating"
   ]
  },
  {
   "cell_type": "markdown",
   "metadata": {},
   "source": [
    "## Spliting the data into Training-Set and Testing-set"
   ]
  },
  {
   "cell_type": "code",
   "execution_count": 37,
   "metadata": {},
   "outputs": [],
   "source": [
    "from sklearn.model_selection import train_test_split\n",
    "x_train, x_test, y_train, y_test = train_test_split(x, y, train_size = 0.8, random_state = 1)"
   ]
  },
  {
   "cell_type": "markdown",
   "metadata": {},
   "source": [
    "## CLASSIFICATION ALGORITHMS AND PERFORMANCE MEASUREMENTS"
   ]
  },
  {
   "cell_type": "code",
   "execution_count": 38,
   "metadata": {},
   "outputs": [
    {
     "name": "stdout",
     "output_type": "stream",
     "text": [
      "0.55\n"
     ]
    }
   ],
   "source": [
    "#Logistic Regression\n",
    "\n",
    "\n",
    "from sklearn.linear_model import LogisticRegression\n",
    "from sklearn import metrics\n",
    "\n",
    "logreg =  LogisticRegression()\n",
    "logreg.fit(x_train, y_train)\n",
    "y_pred = logreg.predict(x_test)\n",
    "print(logreg.score(x_test, y_test))"
   ]
  },
  {
   "cell_type": "code",
   "execution_count": 39,
   "metadata": {},
   "outputs": [
    {
     "name": "stdout",
     "output_type": "stream",
     "text": [
      "1.0\n"
     ]
    }
   ],
   "source": [
    "from sklearn.linear_model import LinearRegression\n",
    "from sklearn import metrics\n",
    "\n",
    "linreg =  LinearRegression()\n",
    "linreg.fit(x_train, y_train)\n",
    "y_pred = linreg.predict(x_test)\n",
    "print(linreg.score(x_test, y_test))"
   ]
  },
  {
   "cell_type": "code",
   "execution_count": 40,
   "metadata": {},
   "outputs": [
    {
     "data": {
      "text/plain": [
       "0.82"
      ]
     },
     "execution_count": 40,
     "metadata": {},
     "output_type": "execute_result"
    }
   ],
   "source": [
    "import pandas as pd \n",
    "from sklearn.metrics import accuracy_score\n",
    "from sklearn.neighbors import KNeighborsClassifier\n",
    "from sklearn.model_selection import train_test_split\n",
    "x_train, x_test, y_train, y_test = train_test_split(x, y, train_size = 0.8, random_state = 3)\n",
    "nn = KNeighborsClassifier()\n",
    "model = nn.fit(x_train, y_train)\n",
    "prediction = model.predict(x_test)\n",
    "accuracy_score(y_test, prediction, normalize = True)"
   ]
  },
  {
   "cell_type": "code",
   "execution_count": 41,
   "metadata": {},
   "outputs": [
    {
     "name": "stdout",
     "output_type": "stream",
     "text": [
      "Training Score: 0.9999999962757236\n",
      "Testing Score: 0.9999679941672427\n"
     ]
    }
   ],
   "source": [
    "from xgboost import XGBRegressor\n",
    "from sklearn.metrics import mean_absolute_error,mean_squared_error,r2_score\n",
    "model = XGBRegressor(n_estimators=200, max_depth=5)\n",
    "model.fit(x_train, y_train)\n",
    "y_pred = model.predict(x_test)\n",
    "score = model.score(x_train, y_train)\n",
    "print('Training Score:', score)\n",
    "score = model.score(x_test, y_test)\n",
    "print('Testing Score:', score)\n",
    "output = pd.DataFrame({'Predicted':y_pred})"
   ]
  },
  {
   "cell_type": "code",
   "execution_count": null,
   "metadata": {},
   "outputs": [],
   "source": []
  },
  {
   "cell_type": "markdown",
   "metadata": {},
   "source": [
    "# SENTIMENT ANALYSIS"
   ]
  },
  {
   "cell_type": "code",
   "execution_count": 42,
   "metadata": {},
   "outputs": [
    {
     "name": "stderr",
     "output_type": "stream",
     "text": [
      "[nltk_data] Downloading package stopwords to\n",
      "[nltk_data]     C:\\Users\\91830\\AppData\\Roaming\\nltk_data...\n",
      "[nltk_data]   Package stopwords is already up-to-date!\n",
      "[nltk_data] Downloading package punkt to\n",
      "[nltk_data]     C:\\Users\\91830\\AppData\\Roaming\\nltk_data...\n",
      "[nltk_data]   Package punkt is already up-to-date!\n"
     ]
    }
   ],
   "source": [
    "import numpy as np # linear algebra\n",
    "import pandas as pd # data processing, CSV file I/O (e.g. pd.read_csv)\n",
    "import re # for regex\n",
    "from nltk.corpus import stopwords\n",
    "import nltk \n",
    "nltk.download('stopwords')\n",
    "import nltk\n",
    "nltk.download('punkt')\n",
    "from nltk.tokenize import word_tokenize\n",
    "from nltk.stem import SnowballStemmer\n",
    "from sklearn.feature_extraction.text import CountVectorizer\n",
    "from sklearn.model_selection import train_test_split\n",
    "from sklearn.naive_bayes import GaussianNB,MultinomialNB\n",
    "from sklearn.metrics import accuracy_score\n",
    "import pickle"
   ]
  },
  {
   "cell_type": "code",
   "execution_count": 43,
   "metadata": {},
   "outputs": [
    {
     "data": {
      "text/html": [
       "<div>\n",
       "<style scoped>\n",
       "    .dataframe tbody tr th:only-of-type {\n",
       "        vertical-align: middle;\n",
       "    }\n",
       "\n",
       "    .dataframe tbody tr th {\n",
       "        vertical-align: top;\n",
       "    }\n",
       "\n",
       "    .dataframe thead th {\n",
       "        text-align: right;\n",
       "    }\n",
       "</style>\n",
       "<table border=\"1\" class=\"dataframe\">\n",
       "  <thead>\n",
       "    <tr style=\"text-align: right;\">\n",
       "      <th></th>\n",
       "      <th>review</th>\n",
       "      <th>sentiment</th>\n",
       "    </tr>\n",
       "  </thead>\n",
       "  <tbody>\n",
       "    <tr>\n",
       "      <th>0</th>\n",
       "      <td>One of the other reviewers has mentioned that ...</td>\n",
       "      <td>positive</td>\n",
       "    </tr>\n",
       "    <tr>\n",
       "      <th>1</th>\n",
       "      <td>A wonderful little production. &lt;br /&gt;&lt;br /&gt;The...</td>\n",
       "      <td>positive</td>\n",
       "    </tr>\n",
       "    <tr>\n",
       "      <th>2</th>\n",
       "      <td>I thought this was a wonderful way to spend ti...</td>\n",
       "      <td>positive</td>\n",
       "    </tr>\n",
       "    <tr>\n",
       "      <th>3</th>\n",
       "      <td>Basically there's a family where a little boy ...</td>\n",
       "      <td>negative</td>\n",
       "    </tr>\n",
       "    <tr>\n",
       "      <th>4</th>\n",
       "      <td>Petter Mattei's \"Love in the Time of Money\" is...</td>\n",
       "      <td>positive</td>\n",
       "    </tr>\n",
       "    <tr>\n",
       "      <th>...</th>\n",
       "      <td>...</td>\n",
       "      <td>...</td>\n",
       "    </tr>\n",
       "    <tr>\n",
       "      <th>994</th>\n",
       "      <td>On watching this film, I was amazed at how med...</td>\n",
       "      <td>positive</td>\n",
       "    </tr>\n",
       "    <tr>\n",
       "      <th>995</th>\n",
       "      <td>Nothing is sacred. Just ask Ernie Fosselius. T...</td>\n",
       "      <td>positive</td>\n",
       "    </tr>\n",
       "    <tr>\n",
       "      <th>996</th>\n",
       "      <td>I hated it. I hate self-aware pretentious inan...</td>\n",
       "      <td>negative</td>\n",
       "    </tr>\n",
       "    <tr>\n",
       "      <th>997</th>\n",
       "      <td>I usually try to be professional and construct...</td>\n",
       "      <td>negative</td>\n",
       "    </tr>\n",
       "    <tr>\n",
       "      <th>998</th>\n",
       "      <td>If you like me is going to see this in a film ...</td>\n",
       "      <td>negative</td>\n",
       "    </tr>\n",
       "  </tbody>\n",
       "</table>\n",
       "<p>999 rows × 2 columns</p>\n",
       "</div>"
      ],
      "text/plain": [
       "                                                review sentiment\n",
       "0    One of the other reviewers has mentioned that ...  positive\n",
       "1    A wonderful little production. <br /><br />The...  positive\n",
       "2    I thought this was a wonderful way to spend ti...  positive\n",
       "3    Basically there's a family where a little boy ...  negative\n",
       "4    Petter Mattei's \"Love in the Time of Money\" is...  positive\n",
       "..                                                 ...       ...\n",
       "994  On watching this film, I was amazed at how med...  positive\n",
       "995  Nothing is sacred. Just ask Ernie Fosselius. T...  positive\n",
       "996  I hated it. I hate self-aware pretentious inan...  negative\n",
       "997  I usually try to be professional and construct...  negative\n",
       "998  If you like me is going to see this in a film ...  negative\n",
       "\n",
       "[999 rows x 2 columns]"
      ]
     },
     "execution_count": 43,
     "metadata": {},
     "output_type": "execute_result"
    }
   ],
   "source": [
    "data = pd.read_excel(\"D:\\imdb_reviews2.xlsx\")\n",
    "data"
   ]
  },
  {
   "cell_type": "code",
   "execution_count": 44,
   "metadata": {},
   "outputs": [
    {
     "name": "stdout",
     "output_type": "stream",
     "text": [
      "(999, 2)\n"
     ]
    },
    {
     "data": {
      "text/html": [
       "<div>\n",
       "<style scoped>\n",
       "    .dataframe tbody tr th:only-of-type {\n",
       "        vertical-align: middle;\n",
       "    }\n",
       "\n",
       "    .dataframe tbody tr th {\n",
       "        vertical-align: top;\n",
       "    }\n",
       "\n",
       "    .dataframe thead th {\n",
       "        text-align: right;\n",
       "    }\n",
       "</style>\n",
       "<table border=\"1\" class=\"dataframe\">\n",
       "  <thead>\n",
       "    <tr style=\"text-align: right;\">\n",
       "      <th></th>\n",
       "      <th>review</th>\n",
       "      <th>sentiment</th>\n",
       "    </tr>\n",
       "  </thead>\n",
       "  <tbody>\n",
       "    <tr>\n",
       "      <th>0</th>\n",
       "      <td>One of the other reviewers has mentioned that ...</td>\n",
       "      <td>positive</td>\n",
       "    </tr>\n",
       "    <tr>\n",
       "      <th>1</th>\n",
       "      <td>A wonderful little production. &lt;br /&gt;&lt;br /&gt;The...</td>\n",
       "      <td>positive</td>\n",
       "    </tr>\n",
       "    <tr>\n",
       "      <th>2</th>\n",
       "      <td>I thought this was a wonderful way to spend ti...</td>\n",
       "      <td>positive</td>\n",
       "    </tr>\n",
       "    <tr>\n",
       "      <th>3</th>\n",
       "      <td>Basically there's a family where a little boy ...</td>\n",
       "      <td>negative</td>\n",
       "    </tr>\n",
       "    <tr>\n",
       "      <th>4</th>\n",
       "      <td>Petter Mattei's \"Love in the Time of Money\" is...</td>\n",
       "      <td>positive</td>\n",
       "    </tr>\n",
       "  </tbody>\n",
       "</table>\n",
       "</div>"
      ],
      "text/plain": [
       "                                              review sentiment\n",
       "0  One of the other reviewers has mentioned that ...  positive\n",
       "1  A wonderful little production. <br /><br />The...  positive\n",
       "2  I thought this was a wonderful way to spend ti...  positive\n",
       "3  Basically there's a family where a little boy ...  negative\n",
       "4  Petter Mattei's \"Love in the Time of Money\" is...  positive"
      ]
     },
     "execution_count": 44,
     "metadata": {},
     "output_type": "execute_result"
    }
   ],
   "source": [
    "print(data.shape)\n",
    "data.head()"
   ]
  },
  {
   "cell_type": "code",
   "execution_count": 45,
   "metadata": {},
   "outputs": [
    {
     "name": "stdout",
     "output_type": "stream",
     "text": [
      "<class 'pandas.core.frame.DataFrame'>\n",
      "RangeIndex: 999 entries, 0 to 998\n",
      "Data columns (total 2 columns):\n",
      " #   Column     Non-Null Count  Dtype \n",
      "---  ------     --------------  ----- \n",
      " 0   review     999 non-null    object\n",
      " 1   sentiment  999 non-null    object\n",
      "dtypes: object(2)\n",
      "memory usage: 15.7+ KB\n"
     ]
    }
   ],
   "source": [
    "data.info()"
   ]
  },
  {
   "cell_type": "code",
   "execution_count": 46,
   "metadata": {},
   "outputs": [
    {
     "data": {
      "text/plain": [
       "positive    501\n",
       "negative    498\n",
       "Name: sentiment, dtype: int64"
      ]
     },
     "execution_count": 46,
     "metadata": {},
     "output_type": "execute_result"
    }
   ],
   "source": [
    "data.sentiment.value_counts()"
   ]
  },
  {
   "cell_type": "code",
   "execution_count": 47,
   "metadata": {},
   "outputs": [
    {
     "data": {
      "text/html": [
       "<div>\n",
       "<style scoped>\n",
       "    .dataframe tbody tr th:only-of-type {\n",
       "        vertical-align: middle;\n",
       "    }\n",
       "\n",
       "    .dataframe tbody tr th {\n",
       "        vertical-align: top;\n",
       "    }\n",
       "\n",
       "    .dataframe thead th {\n",
       "        text-align: right;\n",
       "    }\n",
       "</style>\n",
       "<table border=\"1\" class=\"dataframe\">\n",
       "  <thead>\n",
       "    <tr style=\"text-align: right;\">\n",
       "      <th></th>\n",
       "      <th>review</th>\n",
       "      <th>sentiment</th>\n",
       "    </tr>\n",
       "  </thead>\n",
       "  <tbody>\n",
       "    <tr>\n",
       "      <th>0</th>\n",
       "      <td>One of the other reviewers has mentioned that ...</td>\n",
       "      <td>1</td>\n",
       "    </tr>\n",
       "    <tr>\n",
       "      <th>1</th>\n",
       "      <td>A wonderful little production. &lt;br /&gt;&lt;br /&gt;The...</td>\n",
       "      <td>1</td>\n",
       "    </tr>\n",
       "    <tr>\n",
       "      <th>2</th>\n",
       "      <td>I thought this was a wonderful way to spend ti...</td>\n",
       "      <td>1</td>\n",
       "    </tr>\n",
       "    <tr>\n",
       "      <th>3</th>\n",
       "      <td>Basically there's a family where a little boy ...</td>\n",
       "      <td>0</td>\n",
       "    </tr>\n",
       "    <tr>\n",
       "      <th>4</th>\n",
       "      <td>Petter Mattei's \"Love in the Time of Money\" is...</td>\n",
       "      <td>1</td>\n",
       "    </tr>\n",
       "    <tr>\n",
       "      <th>5</th>\n",
       "      <td>Probably my all-time favorite movie, a story o...</td>\n",
       "      <td>1</td>\n",
       "    </tr>\n",
       "    <tr>\n",
       "      <th>6</th>\n",
       "      <td>I sure would like to see a resurrection of a u...</td>\n",
       "      <td>1</td>\n",
       "    </tr>\n",
       "    <tr>\n",
       "      <th>7</th>\n",
       "      <td>This show was an amazing, fresh &amp; innovative i...</td>\n",
       "      <td>0</td>\n",
       "    </tr>\n",
       "    <tr>\n",
       "      <th>8</th>\n",
       "      <td>Encouraged by the positive comments about this...</td>\n",
       "      <td>0</td>\n",
       "    </tr>\n",
       "    <tr>\n",
       "      <th>9</th>\n",
       "      <td>If you like original gut wrenching laughter yo...</td>\n",
       "      <td>1</td>\n",
       "    </tr>\n",
       "  </tbody>\n",
       "</table>\n",
       "</div>"
      ],
      "text/plain": [
       "                                              review  sentiment\n",
       "0  One of the other reviewers has mentioned that ...          1\n",
       "1  A wonderful little production. <br /><br />The...          1\n",
       "2  I thought this was a wonderful way to spend ti...          1\n",
       "3  Basically there's a family where a little boy ...          0\n",
       "4  Petter Mattei's \"Love in the Time of Money\" is...          1\n",
       "5  Probably my all-time favorite movie, a story o...          1\n",
       "6  I sure would like to see a resurrection of a u...          1\n",
       "7  This show was an amazing, fresh & innovative i...          0\n",
       "8  Encouraged by the positive comments about this...          0\n",
       "9  If you like original gut wrenching laughter yo...          1"
      ]
     },
     "execution_count": 47,
     "metadata": {},
     "output_type": "execute_result"
    }
   ],
   "source": [
    "data.sentiment.replace('positive',1,inplace=True)\n",
    "data.sentiment.replace('negative',0,inplace=True)\n",
    "data.head(10)"
   ]
  },
  {
   "cell_type": "code",
   "execution_count": 48,
   "metadata": {},
   "outputs": [
    {
     "data": {
      "text/plain": [
       "\"One of the other reviewers has mentioned that after watching just 1 Oz episode you'll be hooked. They are right, as this is exactly what happened with me.<br /><br />The first thing that struck me about Oz was its brutality and unflinching scenes of violence, which set in right from the word GO. Trust me, this is not a show for the faint hearted or timid. This show pulls no punches with regards to drugs, sex or violence. Its is hardcore, in the classic use of the word.<br /><br />It is called OZ as that is the nickname given to the Oswald Maximum Security State Penitentary. It focuses mainly on Emerald City, an experimental section of the prison where all the cells have glass fronts and face inwards, so privacy is not high on the agenda. Em City is home to many..Aryans, Muslims, gangstas, Latinos, Christians, Italians, Irish and more....so scuffles, death stares, dodgy dealings and shady agreements are never far away.<br /><br />I would say the main appeal of the show is due to the fact that it goes where other shows wouldn't dare. Forget pretty pictures painted for mainstream audiences, forget charm, forget romance...OZ doesn't mess around. The first episode I ever saw struck me as so nasty it was surreal, I couldn't say I was ready for it, but as I watched more, I developed a taste for Oz, and got accustomed to the high levels of graphic violence. Not just violence, but injustice (crooked guards who'll be sold out for a nickel, inmates who'll kill on order and get away with it, well mannered, middle class inmates being turned into prison bitches due to their lack of street skills or prison experience) Watching Oz, you may become comfortable with what is uncomfortable viewing....thats if you can get in touch with your darker side.\""
      ]
     },
     "execution_count": 48,
     "metadata": {},
     "output_type": "execute_result"
    }
   ],
   "source": [
    "data.review[0]"
   ]
  },
  {
   "cell_type": "markdown",
   "metadata": {},
   "source": [
    "## Remove unecessary characters"
   ]
  },
  {
   "cell_type": "code",
   "execution_count": 49,
   "metadata": {},
   "outputs": [
    {
     "data": {
      "text/plain": [
       "\"One of the other reviewers has mentioned that after watching just 1 Oz episode you'll be hooked. They are right, as this is exactly what happened with me.The first thing that struck me about Oz was its brutality and unflinching scenes of violence, which set in right from the word GO. Trust me, this is not a show for the faint hearted or timid. This show pulls no punches with regards to drugs, sex or violence. Its is hardcore, in the classic use of the word.It is called OZ as that is the nickname given to the Oswald Maximum Security State Penitentary. It focuses mainly on Emerald City, an experimental section of the prison where all the cells have glass fronts and face inwards, so privacy is not high on the agenda. Em City is home to many..Aryans, Muslims, gangstas, Latinos, Christians, Italians, Irish and more....so scuffles, death stares, dodgy dealings and shady agreements are never far away.I would say the main appeal of the show is due to the fact that it goes where other shows wouldn't dare. Forget pretty pictures painted for mainstream audiences, forget charm, forget romance...OZ doesn't mess around. The first episode I ever saw struck me as so nasty it was surreal, I couldn't say I was ready for it, but as I watched more, I developed a taste for Oz, and got accustomed to the high levels of graphic violence. Not just violence, but injustice (crooked guards who'll be sold out for a nickel, inmates who'll kill on order and get away with it, well mannered, middle class inmates being turned into prison bitches due to their lack of street skills or prison experience) Watching Oz, you may become comfortable with what is uncomfortable viewing....thats if you can get in touch with your darker side.\""
      ]
     },
     "execution_count": 49,
     "metadata": {},
     "output_type": "execute_result"
    }
   ],
   "source": [
    "def clean(text):\n",
    "    cleaned = re.compile(r'<.*?>')\n",
    "    return re.sub(cleaned,'',text)\n",
    "\n",
    "data.review = data.review.apply(clean)\n",
    "data.review[0]"
   ]
  },
  {
   "cell_type": "markdown",
   "metadata": {},
   "source": [
    " ## Remove special characters"
   ]
  },
  {
   "cell_type": "code",
   "execution_count": 50,
   "metadata": {},
   "outputs": [],
   "source": [
    "def is_special(text):\n",
    "    rem = ''\n",
    "    for i in text:\n",
    "        if i.isalnum():\n",
    "            rem = rem + i\n",
    "        else:\n",
    "            rem = rem + ' '\n",
    "    return rem"
   ]
  },
  {
   "cell_type": "markdown",
   "metadata": {},
   "source": [
    "## Convert everything to lowercase"
   ]
  },
  {
   "cell_type": "code",
   "execution_count": 51,
   "metadata": {},
   "outputs": [
    {
     "data": {
      "text/plain": [
       "\"one of the other reviewers has mentioned that after watching just 1 oz episode you'll be hooked. they are right, as this is exactly what happened with me.the first thing that struck me about oz was its brutality and unflinching scenes of violence, which set in right from the word go. trust me, this is not a show for the faint hearted or timid. this show pulls no punches with regards to drugs, sex or violence. its is hardcore, in the classic use of the word.it is called oz as that is the nickname given to the oswald maximum security state penitentary. it focuses mainly on emerald city, an experimental section of the prison where all the cells have glass fronts and face inwards, so privacy is not high on the agenda. em city is home to many..aryans, muslims, gangstas, latinos, christians, italians, irish and more....so scuffles, death stares, dodgy dealings and shady agreements are never far away.i would say the main appeal of the show is due to the fact that it goes where other shows wouldn't dare. forget pretty pictures painted for mainstream audiences, forget charm, forget romance...oz doesn't mess around. the first episode i ever saw struck me as so nasty it was surreal, i couldn't say i was ready for it, but as i watched more, i developed a taste for oz, and got accustomed to the high levels of graphic violence. not just violence, but injustice (crooked guards who'll be sold out for a nickel, inmates who'll kill on order and get away with it, well mannered, middle class inmates being turned into prison bitches due to their lack of street skills or prison experience) watching oz, you may become comfortable with what is uncomfortable viewing....thats if you can get in touch with your darker side.\""
      ]
     },
     "execution_count": 51,
     "metadata": {},
     "output_type": "execute_result"
    }
   ],
   "source": [
    "def to_lower(text):\n",
    "    return text.lower()\n",
    "\n",
    "data.review = data.review.apply(to_lower)\n",
    "data.review[0]"
   ]
  },
  {
   "cell_type": "markdown",
   "metadata": {},
   "source": [
    " ## Remove stopwords"
   ]
  },
  {
   "cell_type": "code",
   "execution_count": 52,
   "metadata": {},
   "outputs": [
    {
     "data": {
      "text/plain": [
       "['one',\n",
       " 'reviewers',\n",
       " 'mentioned',\n",
       " 'watching',\n",
       " '1',\n",
       " 'oz',\n",
       " 'episode',\n",
       " \"'ll\",\n",
       " 'hooked',\n",
       " '.',\n",
       " 'right',\n",
       " ',',\n",
       " 'exactly',\n",
       " 'happened',\n",
       " 'me.the',\n",
       " 'first',\n",
       " 'thing',\n",
       " 'struck',\n",
       " 'oz',\n",
       " 'brutality',\n",
       " 'unflinching',\n",
       " 'scenes',\n",
       " 'violence',\n",
       " ',',\n",
       " 'set',\n",
       " 'right',\n",
       " 'word',\n",
       " 'go',\n",
       " '.',\n",
       " 'trust',\n",
       " ',',\n",
       " 'show',\n",
       " 'faint',\n",
       " 'hearted',\n",
       " 'timid',\n",
       " '.',\n",
       " 'show',\n",
       " 'pulls',\n",
       " 'punches',\n",
       " 'regards',\n",
       " 'drugs',\n",
       " ',',\n",
       " 'sex',\n",
       " 'violence',\n",
       " '.',\n",
       " 'hardcore',\n",
       " ',',\n",
       " 'classic',\n",
       " 'use',\n",
       " 'word.it',\n",
       " 'called',\n",
       " 'oz',\n",
       " 'nickname',\n",
       " 'given',\n",
       " 'oswald',\n",
       " 'maximum',\n",
       " 'security',\n",
       " 'state',\n",
       " 'penitentary',\n",
       " '.',\n",
       " 'focuses',\n",
       " 'mainly',\n",
       " 'emerald',\n",
       " 'city',\n",
       " ',',\n",
       " 'experimental',\n",
       " 'section',\n",
       " 'prison',\n",
       " 'cells',\n",
       " 'glass',\n",
       " 'fronts',\n",
       " 'face',\n",
       " 'inwards',\n",
       " ',',\n",
       " 'privacy',\n",
       " 'high',\n",
       " 'agenda',\n",
       " '.',\n",
       " 'em',\n",
       " 'city',\n",
       " 'home',\n",
       " 'many',\n",
       " '..',\n",
       " 'aryans',\n",
       " ',',\n",
       " 'muslims',\n",
       " ',',\n",
       " 'gangstas',\n",
       " ',',\n",
       " 'latinos',\n",
       " ',',\n",
       " 'christians',\n",
       " ',',\n",
       " 'italians',\n",
       " ',',\n",
       " 'irish',\n",
       " '....',\n",
       " 'scuffles',\n",
       " ',',\n",
       " 'death',\n",
       " 'stares',\n",
       " ',',\n",
       " 'dodgy',\n",
       " 'dealings',\n",
       " 'shady',\n",
       " 'agreements',\n",
       " 'never',\n",
       " 'far',\n",
       " 'away.i',\n",
       " 'would',\n",
       " 'say',\n",
       " 'main',\n",
       " 'appeal',\n",
       " 'show',\n",
       " 'due',\n",
       " 'fact',\n",
       " 'goes',\n",
       " 'shows',\n",
       " 'would',\n",
       " \"n't\",\n",
       " 'dare',\n",
       " '.',\n",
       " 'forget',\n",
       " 'pretty',\n",
       " 'pictures',\n",
       " 'painted',\n",
       " 'mainstream',\n",
       " 'audiences',\n",
       " ',',\n",
       " 'forget',\n",
       " 'charm',\n",
       " ',',\n",
       " 'forget',\n",
       " 'romance',\n",
       " '...',\n",
       " 'oz',\n",
       " \"n't\",\n",
       " 'mess',\n",
       " 'around',\n",
       " '.',\n",
       " 'first',\n",
       " 'episode',\n",
       " 'ever',\n",
       " 'saw',\n",
       " 'struck',\n",
       " 'nasty',\n",
       " 'surreal',\n",
       " ',',\n",
       " 'could',\n",
       " \"n't\",\n",
       " 'say',\n",
       " 'ready',\n",
       " ',',\n",
       " 'watched',\n",
       " ',',\n",
       " 'developed',\n",
       " 'taste',\n",
       " 'oz',\n",
       " ',',\n",
       " 'got',\n",
       " 'accustomed',\n",
       " 'high',\n",
       " 'levels',\n",
       " 'graphic',\n",
       " 'violence',\n",
       " '.',\n",
       " 'violence',\n",
       " ',',\n",
       " 'injustice',\n",
       " '(',\n",
       " 'crooked',\n",
       " 'guards',\n",
       " \"'ll\",\n",
       " 'sold',\n",
       " 'nickel',\n",
       " ',',\n",
       " 'inmates',\n",
       " \"'ll\",\n",
       " 'kill',\n",
       " 'order',\n",
       " 'get',\n",
       " 'away',\n",
       " ',',\n",
       " 'well',\n",
       " 'mannered',\n",
       " ',',\n",
       " 'middle',\n",
       " 'class',\n",
       " 'inmates',\n",
       " 'turned',\n",
       " 'prison',\n",
       " 'bitches',\n",
       " 'due',\n",
       " 'lack',\n",
       " 'street',\n",
       " 'skills',\n",
       " 'prison',\n",
       " 'experience',\n",
       " ')',\n",
       " 'watching',\n",
       " 'oz',\n",
       " ',',\n",
       " 'may',\n",
       " 'become',\n",
       " 'comfortable',\n",
       " 'uncomfortable',\n",
       " 'viewing',\n",
       " '....',\n",
       " 'thats',\n",
       " 'get',\n",
       " 'touch',\n",
       " 'darker',\n",
       " 'side',\n",
       " '.']"
      ]
     },
     "execution_count": 52,
     "metadata": {},
     "output_type": "execute_result"
    }
   ],
   "source": [
    "def rem_stopwords(text):\n",
    "    stop_words = set(stopwords.words('english'))\n",
    "    words = word_tokenize(text)\n",
    "    return [w for w in words if w not in stop_words]\n",
    "\n",
    "data.review = data.review.apply(rem_stopwords)\n",
    "data.review[0]"
   ]
  },
  {
   "cell_type": "markdown",
   "metadata": {},
   "source": [
    "## Stem the words"
   ]
  },
  {
   "cell_type": "code",
   "execution_count": 53,
   "metadata": {},
   "outputs": [
    {
     "data": {
      "text/plain": [
       "\"one review mention watch 1 oz episod ll hook . right , exact happen me.th first thing struck oz brutal unflinch scene violenc , set right word go . trust , show faint heart timid . show pull punch regard drug , sex violenc . hardcor , classic use word.it call oz nicknam given oswald maximum secur state penitentari . focus main emerald citi , experiment section prison cell glass front face inward , privaci high agenda . em citi home mani .. aryan , muslim , gangsta , latino , christian , italian , irish .... scuffl , death stare , dodgi deal shadi agreement never far away.i would say main appeal show due fact goe show would n't dare . forget pretti pictur paint mainstream audienc , forget charm , forget romanc ... oz n't mess around . first episod ever saw struck nasti surreal , could n't say readi , watch , develop tast oz , got accustom high level graphic violenc . violenc , injustic ( crook guard ll sold nickel , inmat ll kill order get away , well manner , middl class inmat turn prison bitch due lack street skill prison experi ) watch oz , may becom comfort uncomfort view .... that get touch darker side .\""
      ]
     },
     "execution_count": 53,
     "metadata": {},
     "output_type": "execute_result"
    }
   ],
   "source": [
    "def stem_txt(text):\n",
    "    ss = SnowballStemmer('english')\n",
    "    return \" \".join([ss.stem(w) for w in text])\n",
    "\n",
    "data.review = data.review.apply(stem_txt)\n",
    "data.review[0]"
   ]
  },
  {
   "cell_type": "code",
   "execution_count": 54,
   "metadata": {},
   "outputs": [
    {
     "data": {
      "text/html": [
       "<div>\n",
       "<style scoped>\n",
       "    .dataframe tbody tr th:only-of-type {\n",
       "        vertical-align: middle;\n",
       "    }\n",
       "\n",
       "    .dataframe tbody tr th {\n",
       "        vertical-align: top;\n",
       "    }\n",
       "\n",
       "    .dataframe thead th {\n",
       "        text-align: right;\n",
       "    }\n",
       "</style>\n",
       "<table border=\"1\" class=\"dataframe\">\n",
       "  <thead>\n",
       "    <tr style=\"text-align: right;\">\n",
       "      <th></th>\n",
       "      <th>review</th>\n",
       "      <th>sentiment</th>\n",
       "    </tr>\n",
       "  </thead>\n",
       "  <tbody>\n",
       "    <tr>\n",
       "      <th>0</th>\n",
       "      <td>one review mention watch 1 oz episod ll hook ....</td>\n",
       "      <td>1</td>\n",
       "    </tr>\n",
       "    <tr>\n",
       "      <th>1</th>\n",
       "      <td>wonder littl product . film techniqu unassumin...</td>\n",
       "      <td>1</td>\n",
       "    </tr>\n",
       "    <tr>\n",
       "      <th>2</th>\n",
       "      <td>thought wonder way spend time hot summer weeke...</td>\n",
       "      <td>1</td>\n",
       "    </tr>\n",
       "    <tr>\n",
       "      <th>3</th>\n",
       "      <td>basic 's famili littl boy ( jake ) think 's zo...</td>\n",
       "      <td>0</td>\n",
       "    </tr>\n",
       "    <tr>\n",
       "      <th>4</th>\n",
       "      <td>petter mattei 's `` love time money '' visual ...</td>\n",
       "      <td>1</td>\n",
       "    </tr>\n",
       "  </tbody>\n",
       "</table>\n",
       "</div>"
      ],
      "text/plain": [
       "                                              review  sentiment\n",
       "0  one review mention watch 1 oz episod ll hook ....          1\n",
       "1  wonder littl product . film techniqu unassumin...          1\n",
       "2  thought wonder way spend time hot summer weeke...          1\n",
       "3  basic 's famili littl boy ( jake ) think 's zo...          0\n",
       "4  petter mattei 's `` love time money '' visual ...          1"
      ]
     },
     "execution_count": 54,
     "metadata": {},
     "output_type": "execute_result"
    }
   ],
   "source": [
    "data.head()"
   ]
  },
  {
   "cell_type": "code",
   "execution_count": 55,
   "metadata": {},
   "outputs": [
    {
     "name": "stdout",
     "output_type": "stream",
     "text": [
      "X.shape =  (999, 1000)\n",
      "y.shape =  (999,)\n"
     ]
    }
   ],
   "source": [
    "X = np.array(data.iloc[:,0].values)\n",
    "y = np.array(data.sentiment.values)\n",
    "cv = CountVectorizer(max_features = 1000)\n",
    "X = cv.fit_transform(data.review).toarray()\n",
    "print(\"X.shape = \",X.shape)\n",
    "print(\"y.shape = \",y.shape)"
   ]
  },
  {
   "cell_type": "code",
   "execution_count": 56,
   "metadata": {},
   "outputs": [
    {
     "name": "stdout",
     "output_type": "stream",
     "text": [
      "[[0 0 0 ... 0 0 0]\n",
      " [0 0 0 ... 0 0 0]\n",
      " [0 0 0 ... 0 1 0]\n",
      " ...\n",
      " [0 0 0 ... 0 0 0]\n",
      " [0 0 0 ... 0 0 2]\n",
      " [2 0 1 ... 0 0 0]]\n"
     ]
    }
   ],
   "source": [
    "print(X)"
   ]
  },
  {
   "cell_type": "markdown",
   "metadata": {},
   "source": [
    "## Train test split"
   ]
  },
  {
   "cell_type": "code",
   "execution_count": 57,
   "metadata": {},
   "outputs": [
    {
     "name": "stdout",
     "output_type": "stream",
     "text": [
      "Train shapes : X = (799, 1000), y = (799,)\n",
      "Test shapes : X = (200, 1000), y = (200,)\n"
     ]
    }
   ],
   "source": [
    "trainx,testx,trainy,testy = train_test_split(X,y,test_size=0.2,random_state=9)\n",
    "print(\"Train shapes : X = {}, y = {}\".format(trainx.shape,trainy.shape))\n",
    "print(\"Test shapes : X = {}, y = {}\".format(testx.shape,testy.shape))"
   ]
  },
  {
   "cell_type": "markdown",
   "metadata": {},
   "source": [
    "## Defining the models and Training them"
   ]
  },
  {
   "cell_type": "code",
   "execution_count": 58,
   "metadata": {},
   "outputs": [
    {
     "data": {
      "text/plain": [
       "MultinomialNB()"
      ]
     },
     "execution_count": 58,
     "metadata": {},
     "output_type": "execute_result"
    }
   ],
   "source": [
    "gnb,mnb = GaussianNB(),MultinomialNB(alpha=1.0,fit_prior=True),\n",
    "gnb.fit(trainx,trainy)\n",
    "mnb.fit(trainx,trainy)\n"
   ]
  },
  {
   "cell_type": "markdown",
   "metadata": {},
   "source": [
    "## Prediction and accuracy metrics to choose best model"
   ]
  },
  {
   "cell_type": "code",
   "execution_count": 59,
   "metadata": {},
   "outputs": [
    {
     "name": "stdout",
     "output_type": "stream",
     "text": [
      "Gaussian =  0.685\n",
      "Multinomial =  0.785\n"
     ]
    }
   ],
   "source": [
    "ypg = gnb.predict(testx)\n",
    "ypm = mnb.predict(testx)\n",
    "\n",
    "\n",
    "print(\"Gaussian = \",accuracy_score(testy,ypg))\n",
    "print(\"Multinomial = \",accuracy_score(testy,ypm))\n"
   ]
  },
  {
   "cell_type": "code",
   "execution_count": null,
   "metadata": {},
   "outputs": [],
   "source": []
  }
 ],
 "metadata": {
  "kernelspec": {
   "display_name": "Python 3",
   "language": "python",
   "name": "python3"
  },
  "language_info": {
   "codemirror_mode": {
    "name": "ipython",
    "version": 3
   },
   "file_extension": ".py",
   "mimetype": "text/x-python",
   "name": "python",
   "nbconvert_exporter": "python",
   "pygments_lexer": "ipython3",
   "version": "3.8.5"
  }
 },
 "nbformat": 4,
 "nbformat_minor": 4
}
